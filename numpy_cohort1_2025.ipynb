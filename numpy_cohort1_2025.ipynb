{
  "cells": [
    {
      "cell_type": "markdown",
      "metadata": {
        "id": "vcKLdckKJzCC"
      },
      "source": [
        "**INTRODUCTION TO NUMPY**"
      ]
    },
    {
      "cell_type": "markdown",
      "metadata": {
        "id": "zdpzKP31Kx8c"
      },
      "source": [
        "![download.jpg](data:image/jpeg;base64,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)"
      ]
    },
    {
      "cell_type": "markdown",
      "metadata": {
        "id": "YPpz6kL1L7fE"
      },
      "source": [
        "**What is NumPY?**\n",
        "\n",
        "NumPy (Numerical Python) is a powerful Python library used for numerical computing. It provides support for large, multi-dimensional arrays and matrices, along with a collection of mathematical functions to operate on these arrays efficiently."
      ]
    },
    {
      "cell_type": "code",
      "execution_count": null,
      "metadata": {
        "id": "WJZbRmHxNjom"
      },
      "outputs": [],
      "source": [
        "# importing the numpy library\n",
        "import numpy as np"
      ]
    },
    {
      "cell_type": "code",
      "execution_count": null,
      "metadata": {
        "colab": {
          "base_uri": "https://localhost:8080/"
        },
        "id": "H5wGg2E8N6uN",
        "outputId": "a3ae1a93-c38a-4636-f3c9-c923ed0bc591"
      },
      "outputs": [
        {
          "output_type": "execute_result",
          "data": {
            "text/plain": [
              "array(['Alex', 'Isaac', 'Christ', 'David', 'Praise', 'Ammar'], dtype='<U6')"
            ]
          },
          "metadata": {},
          "execution_count": 2
        }
      ],
      "source": [
        "# creating a single dimensional numpy\n",
        "\n",
        "# 1. array(): This is a method in numpy that is used in convertin a list to an array\n",
        "names = ['Alex', 'Isaac', 'Christ', 'David', 'Praise', 'Ammar']\n",
        "\n",
        "array_names = np.array(names)\n",
        "# calling the array variable\n",
        "array_names"
      ]
    },
    {
      "cell_type": "code",
      "execution_count": null,
      "metadata": {
        "colab": {
          "base_uri": "https://localhost:8080/"
        },
        "id": "WVEozYOUMrrq",
        "outputId": "e012d948-e792-4fa4-a189-0d99ad715d51"
      },
      "outputs": [
        {
          "output_type": "execute_result",
          "data": {
            "text/plain": [
              "array(['12344', 'michaelani@gmail.com', 'mike'], dtype='<U20')"
            ]
          },
          "metadata": {},
          "execution_count": 3
        }
      ],
      "source": [
        "credentials = ('12344', 'michaelani@gmail.com', 'mike')\n",
        "array_credentials = np.array(credentials)\n",
        "array_credentials"
      ]
    },
    {
      "cell_type": "code",
      "execution_count": null,
      "metadata": {
        "colab": {
          "base_uri": "https://localhost:8080/"
        },
        "id": "s1LDsz0TNV8r",
        "outputId": "5a097525-125b-48f3-cba5-0670e10df084"
      },
      "outputs": [
        {
          "output_type": "stream",
          "name": "stdout",
          "text": [
            "[[ 1  2  3]\n",
            " [ 4  5  6]\n",
            " [10 20 30]]\n"
          ]
        }
      ],
      "source": [
        "# @title Default title text\n",
        "# working with a two dimensional arrays\n",
        "arr2D = np.array([[1, 2, 3], [4, 5, 6], [10, 20, 30]])\n",
        "print(arr2D)"
      ]
    },
    {
      "cell_type": "code",
      "execution_count": null,
      "metadata": {
        "colab": {
          "base_uri": "https://localhost:8080/"
        },
        "id": "NzhGiSTjRo3z",
        "outputId": "ad73dbc4-34f9-43e6-bb0f-35051b78c7ed"
      },
      "outputs": [
        {
          "output_type": "stream",
          "name": "stdout",
          "text": [
            "1\n",
            "1\n",
            "2\n"
          ]
        }
      ],
      "source": [
        "# checking for number of dimensions in an  array\n",
        "# 2. ndim\n",
        "array1_dimension=array_names.ndim\n",
        "print(array1_dimension)\n",
        "print(array_credentials.ndim)\n",
        "print(arr2D.ndim)"
      ]
    },
    {
      "cell_type": "code",
      "execution_count": null,
      "metadata": {
        "colab": {
          "base_uri": "https://localhost:8080/"
        },
        "id": "k9pliz9STrJa",
        "outputId": "54a1c331-f4f8-4dda-d793-b5e2420b087c"
      },
      "outputs": [
        {
          "output_type": "stream",
          "name": "stdout",
          "text": [
            "[[[1 2]\n",
            "  [3 4]]\n",
            "\n",
            " [[5 6]\n",
            "  [7 8]]]\n"
          ]
        },
        {
          "output_type": "execute_result",
          "data": {
            "text/plain": [
              "3"
            ]
          },
          "metadata": {},
          "execution_count": 6
        }
      ],
      "source": [
        "# working with three dimensional array\n",
        "arr3D = np.array([[[1, 2], [3, 4]], [[5, 6], [7, 8]]])\n",
        "print(arr3D)\n",
        "arr3D.ndim"
      ]
    },
    {
      "cell_type": "code",
      "execution_count": null,
      "metadata": {
        "id": "10rs8eQwVy85"
      },
      "outputs": [],
      "source": [
        "# three dimensional array with no items\n",
        "Array3_D= np.array([[[], [], [], []]])"
      ]
    },
    {
      "cell_type": "code",
      "execution_count": null,
      "metadata": {
        "colab": {
          "base_uri": "https://localhost:8080/"
        },
        "id": "Q8-_hi_kXA2I",
        "outputId": "f36c6541-e243-4295-87ea-87c5982832a7"
      },
      "outputs": [
        {
          "output_type": "execute_result",
          "data": {
            "text/plain": [
              "3"
            ]
          },
          "metadata": {},
          "execution_count": 8
        }
      ],
      "source": [
        "Array3_D.ndim"
      ]
    },
    {
      "cell_type": "markdown",
      "metadata": {
        "id": "PXJK40aZYoIT"
      },
      "source": [
        "**HOW TO CHECK THE PROPERTIES OF A NUMPY ARRAY**\n",
        "\n",
        "1. shape: This array property tells us how many rows and columns are in an array\n",
        "2. ndim: This numpay array property tells us how many dimensions a particular numpy array is having\n",
        "3. size: This property tells us the size of the array element\n",
        "4. dtype: This tells us the data type of that array\n"
      ]
    },
    {
      "cell_type": "code",
      "execution_count": null,
      "metadata": {
        "colab": {
          "base_uri": "https://localhost:8080/"
        },
        "id": "krgylXb5XJ0O",
        "outputId": "dc5a5cff-e04a-4109-dfd1-688adfa485a6"
      },
      "outputs": [
        {
          "output_type": "execute_result",
          "data": {
            "text/plain": [
              "(6,)"
            ]
          },
          "metadata": {},
          "execution_count": 9
        }
      ],
      "source": [
        "#1. shape\n",
        "array_names\n",
        "array_names.shape"
      ]
    },
    {
      "cell_type": "code",
      "execution_count": null,
      "metadata": {
        "colab": {
          "base_uri": "https://localhost:8080/"
        },
        "id": "T7TaWv3qaffo",
        "outputId": "66321e45-561a-4698-fa85-1efa77b37fa3"
      },
      "outputs": [
        {
          "output_type": "execute_result",
          "data": {
            "text/plain": [
              "(3, 3)"
            ]
          },
          "metadata": {},
          "execution_count": 10
        }
      ],
      "source": [
        "arr2D.shape"
      ]
    },
    {
      "cell_type": "code",
      "execution_count": null,
      "metadata": {
        "colab": {
          "base_uri": "https://localhost:8080/"
        },
        "id": "Cocss9SGa8XW",
        "outputId": "a40f5065-8dee-40d8-c2dd-d1ce92c18cf3"
      },
      "outputs": [
        {
          "output_type": "execute_result",
          "data": {
            "text/plain": [
              "array([[ 1,  2,  3],\n",
              "       [ 4,  5,  6],\n",
              "       [10, 20, 30]])"
            ]
          },
          "metadata": {},
          "execution_count": 11
        }
      ],
      "source": [
        "arr2D"
      ]
    },
    {
      "cell_type": "code",
      "execution_count": null,
      "metadata": {
        "colab": {
          "base_uri": "https://localhost:8080/"
        },
        "id": "v_JEspd-bIgF",
        "outputId": "f7e8e730-f017-46c6-9af2-9e63bd025994"
      },
      "outputs": [
        {
          "output_type": "execute_result",
          "data": {
            "text/plain": [
              "3"
            ]
          },
          "metadata": {},
          "execution_count": 12
        }
      ],
      "source": [
        "#2. ndim (Number of Dimension)\n",
        "array_names.ndim\n",
        "arr2D.ndim\n",
        "Array3_D.ndim"
      ]
    },
    {
      "cell_type": "code",
      "execution_count": null,
      "metadata": {
        "colab": {
          "base_uri": "https://localhost:8080/"
        },
        "id": "3S3KStVlc0Ns",
        "outputId": "5b92e133-1734-44a4-831b-30a2ae339032"
      },
      "outputs": [
        {
          "output_type": "execute_result",
          "data": {
            "text/plain": [
              "0"
            ]
          },
          "metadata": {},
          "execution_count": 13
        }
      ],
      "source": [
        "# 3. Size\n",
        "array_names.size # works like the len()\n",
        "arr2D.size\n",
        "Array3_D.size"
      ]
    },
    {
      "cell_type": "code",
      "execution_count": null,
      "metadata": {
        "colab": {
          "base_uri": "https://localhost:8080/"
        },
        "id": "q946I2A3dHNZ",
        "outputId": "4a50dd1f-5d07-4c0b-dd29-fafe67b0a1f2"
      },
      "outputs": [
        {
          "output_type": "execute_result",
          "data": {
            "text/plain": [
              "array(['Alex', 'Isaac', 'Christ', 'David', 'Praise', 'Ammar'], dtype='<U6')"
            ]
          },
          "metadata": {},
          "execution_count": 14
        }
      ],
      "source": [
        "array_names"
      ]
    },
    {
      "cell_type": "code",
      "execution_count": null,
      "metadata": {
        "colab": {
          "base_uri": "https://localhost:8080/"
        },
        "id": "72UuHgmUdJMW",
        "outputId": "808144bb-41dc-4808-95c9-b6a979530b5f"
      },
      "outputs": [
        {
          "output_type": "execute_result",
          "data": {
            "text/plain": [
              "dtype('<U6')"
            ]
          },
          "metadata": {},
          "execution_count": 15
        }
      ],
      "source": [
        "# 4. dtype\n",
        "array_names.dtype"
      ]
    },
    {
      "cell_type": "markdown",
      "metadata": {
        "id": "SsDOa56HfncK"
      },
      "source": [
        "**OTHER NUMPY PROPERTIES**"
      ]
    },
    {
      "cell_type": "code",
      "execution_count": null,
      "metadata": {
        "id": "qNTAaVbCeDHx"
      },
      "outputs": [],
      "source": [
        "#1. shape\n",
        "#2. ndim\n",
        "#3. size\n",
        "#4. dtype\n",
        "#5. nbytes\n",
        "#6. T"
      ]
    },
    {
      "cell_type": "code",
      "execution_count": null,
      "metadata": {
        "colab": {
          "base_uri": "https://localhost:8080/"
        },
        "id": "Jtu2Mc0lgvs2",
        "outputId": "4627592c-e7f6-46a1-f9d2-49b6daa97ee7"
      },
      "outputs": [
        {
          "output_type": "execute_result",
          "data": {
            "text/plain": [
              "72"
            ]
          },
          "metadata": {},
          "execution_count": 17
        }
      ],
      "source": [
        "# nbytes is numpy property for checking the memory that a particular numpy array occupies in your program\n",
        "array_names.nbytes\n",
        "arr2D.nbytes"
      ]
    },
    {
      "cell_type": "code",
      "execution_count": null,
      "metadata": {
        "id": "9Rl9Vt4AijkH"
      },
      "outputs": [],
      "source": [
        "# Transpose (T)"
      ]
    },
    {
      "cell_type": "code",
      "execution_count": null,
      "metadata": {
        "id": "VjWYU6o4jxjb"
      },
      "outputs": [],
      "source": [
        "data = {'name': ['Ammar', 'Alex', 'David', 'Isaac1', 'Praise', 'Isaac2', 'Mr. Christ'],\n",
        "        'Course': ['Data Science', 'Data Engineering', 'Data Science', 'Data Science', 'Data Science', 'Data Science', 'Information System'],\n",
        "        'state': ['Kaduna', 'Rivers', 'Abuja', 'Benue', 'Edo', 'Nasarawa', 'Edo']\n",
        "       }"
      ]
    },
    {
      "cell_type": "code",
      "execution_count": null,
      "metadata": {
        "id": "uCXmbHDHlPXi"
      },
      "outputs": [],
      "source": [
        "import pandas as pd"
      ]
    },
    {
      "cell_type": "code",
      "execution_count": null,
      "metadata": {
        "id": "MEorFU0vlVBZ"
      },
      "outputs": [],
      "source": [
        "table = pd.DataFrame(data)\n"
      ]
    },
    {
      "cell_type": "code",
      "execution_count": null,
      "metadata": {
        "colab": {
          "base_uri": "https://localhost:8080/",
          "height": 268
        },
        "id": "k5_UfrDwliz4",
        "outputId": "68a4c280-b4ac-484e-c14b-79155a230a4f"
      },
      "outputs": [
        {
          "output_type": "execute_result",
          "data": {
            "text/plain": [
              "         name              Course     state\n",
              "0       Ammar        Data Science    Kaduna\n",
              "1        Alex    Data Engineering    Rivers\n",
              "2       David        Data Science     Abuja\n",
              "3      Isaac1        Data Science     Benue\n",
              "4      Praise        Data Science       Edo\n",
              "5      Isaac2        Data Science  Nasarawa\n",
              "6  Mr. Christ  Information System       Edo"
            ],
            "text/html": [
              "\n",
              "  <div id=\"df-4345a54f-283f-439e-9946-4b06c25deb6b\" class=\"colab-df-container\">\n",
              "    <div>\n",
              "<style scoped>\n",
              "    .dataframe tbody tr th:only-of-type {\n",
              "        vertical-align: middle;\n",
              "    }\n",
              "\n",
              "    .dataframe tbody tr th {\n",
              "        vertical-align: top;\n",
              "    }\n",
              "\n",
              "    .dataframe thead th {\n",
              "        text-align: right;\n",
              "    }\n",
              "</style>\n",
              "<table border=\"1\" class=\"dataframe\">\n",
              "  <thead>\n",
              "    <tr style=\"text-align: right;\">\n",
              "      <th></th>\n",
              "      <th>name</th>\n",
              "      <th>Course</th>\n",
              "      <th>state</th>\n",
              "    </tr>\n",
              "  </thead>\n",
              "  <tbody>\n",
              "    <tr>\n",
              "      <th>0</th>\n",
              "      <td>Ammar</td>\n",
              "      <td>Data Science</td>\n",
              "      <td>Kaduna</td>\n",
              "    </tr>\n",
              "    <tr>\n",
              "      <th>1</th>\n",
              "      <td>Alex</td>\n",
              "      <td>Data Engineering</td>\n",
              "      <td>Rivers</td>\n",
              "    </tr>\n",
              "    <tr>\n",
              "      <th>2</th>\n",
              "      <td>David</td>\n",
              "      <td>Data Science</td>\n",
              "      <td>Abuja</td>\n",
              "    </tr>\n",
              "    <tr>\n",
              "      <th>3</th>\n",
              "      <td>Isaac1</td>\n",
              "      <td>Data Science</td>\n",
              "      <td>Benue</td>\n",
              "    </tr>\n",
              "    <tr>\n",
              "      <th>4</th>\n",
              "      <td>Praise</td>\n",
              "      <td>Data Science</td>\n",
              "      <td>Edo</td>\n",
              "    </tr>\n",
              "    <tr>\n",
              "      <th>5</th>\n",
              "      <td>Isaac2</td>\n",
              "      <td>Data Science</td>\n",
              "      <td>Nasarawa</td>\n",
              "    </tr>\n",
              "    <tr>\n",
              "      <th>6</th>\n",
              "      <td>Mr. Christ</td>\n",
              "      <td>Information System</td>\n",
              "      <td>Edo</td>\n",
              "    </tr>\n",
              "  </tbody>\n",
              "</table>\n",
              "</div>\n",
              "    <div class=\"colab-df-buttons\">\n",
              "\n",
              "  <div class=\"colab-df-container\">\n",
              "    <button class=\"colab-df-convert\" onclick=\"convertToInteractive('df-4345a54f-283f-439e-9946-4b06c25deb6b')\"\n",
              "            title=\"Convert this dataframe to an interactive table.\"\n",
              "            style=\"display:none;\">\n",
              "\n",
              "  <svg xmlns=\"http://www.w3.org/2000/svg\" height=\"24px\" viewBox=\"0 -960 960 960\">\n",
              "    <path d=\"M120-120v-720h720v720H120Zm60-500h600v-160H180v160Zm220 220h160v-160H400v160Zm0 220h160v-160H400v160ZM180-400h160v-160H180v160Zm440 0h160v-160H620v160ZM180-180h160v-160H180v160Zm440 0h160v-160H620v160Z\"/>\n",
              "  </svg>\n",
              "    </button>\n",
              "\n",
              "  <style>\n",
              "    .colab-df-container {\n",
              "      display:flex;\n",
              "      gap: 12px;\n",
              "    }\n",
              "\n",
              "    .colab-df-convert {\n",
              "      background-color: #E8F0FE;\n",
              "      border: none;\n",
              "      border-radius: 50%;\n",
              "      cursor: pointer;\n",
              "      display: none;\n",
              "      fill: #1967D2;\n",
              "      height: 32px;\n",
              "      padding: 0 0 0 0;\n",
              "      width: 32px;\n",
              "    }\n",
              "\n",
              "    .colab-df-convert:hover {\n",
              "      background-color: #E2EBFA;\n",
              "      box-shadow: 0px 1px 2px rgba(60, 64, 67, 0.3), 0px 1px 3px 1px rgba(60, 64, 67, 0.15);\n",
              "      fill: #174EA6;\n",
              "    }\n",
              "\n",
              "    .colab-df-buttons div {\n",
              "      margin-bottom: 4px;\n",
              "    }\n",
              "\n",
              "    [theme=dark] .colab-df-convert {\n",
              "      background-color: #3B4455;\n",
              "      fill: #D2E3FC;\n",
              "    }\n",
              "\n",
              "    [theme=dark] .colab-df-convert:hover {\n",
              "      background-color: #434B5C;\n",
              "      box-shadow: 0px 1px 3px 1px rgba(0, 0, 0, 0.15);\n",
              "      filter: drop-shadow(0px 1px 2px rgba(0, 0, 0, 0.3));\n",
              "      fill: #FFFFFF;\n",
              "    }\n",
              "  </style>\n",
              "\n",
              "    <script>\n",
              "      const buttonEl =\n",
              "        document.querySelector('#df-4345a54f-283f-439e-9946-4b06c25deb6b button.colab-df-convert');\n",
              "      buttonEl.style.display =\n",
              "        google.colab.kernel.accessAllowed ? 'block' : 'none';\n",
              "\n",
              "      async function convertToInteractive(key) {\n",
              "        const element = document.querySelector('#df-4345a54f-283f-439e-9946-4b06c25deb6b');\n",
              "        const dataTable =\n",
              "          await google.colab.kernel.invokeFunction('convertToInteractive',\n",
              "                                                    [key], {});\n",
              "        if (!dataTable) return;\n",
              "\n",
              "        const docLinkHtml = 'Like what you see? Visit the ' +\n",
              "          '<a target=\"_blank\" href=https://colab.research.google.com/notebooks/data_table.ipynb>data table notebook</a>'\n",
              "          + ' to learn more about interactive tables.';\n",
              "        element.innerHTML = '';\n",
              "        dataTable['output_type'] = 'display_data';\n",
              "        await google.colab.output.renderOutput(dataTable, element);\n",
              "        const docLink = document.createElement('div');\n",
              "        docLink.innerHTML = docLinkHtml;\n",
              "        element.appendChild(docLink);\n",
              "      }\n",
              "    </script>\n",
              "  </div>\n",
              "\n",
              "\n",
              "    <div id=\"df-439e3f47-7e28-400f-bbb8-fdfdbbb7060c\">\n",
              "      <button class=\"colab-df-quickchart\" onclick=\"quickchart('df-439e3f47-7e28-400f-bbb8-fdfdbbb7060c')\"\n",
              "                title=\"Suggest charts\"\n",
              "                style=\"display:none;\">\n",
              "\n",
              "<svg xmlns=\"http://www.w3.org/2000/svg\" height=\"24px\"viewBox=\"0 0 24 24\"\n",
              "     width=\"24px\">\n",
              "    <g>\n",
              "        <path d=\"M19 3H5c-1.1 0-2 .9-2 2v14c0 1.1.9 2 2 2h14c1.1 0 2-.9 2-2V5c0-1.1-.9-2-2-2zM9 17H7v-7h2v7zm4 0h-2V7h2v10zm4 0h-2v-4h2v4z\"/>\n",
              "    </g>\n",
              "</svg>\n",
              "      </button>\n",
              "\n",
              "<style>\n",
              "  .colab-df-quickchart {\n",
              "      --bg-color: #E8F0FE;\n",
              "      --fill-color: #1967D2;\n",
              "      --hover-bg-color: #E2EBFA;\n",
              "      --hover-fill-color: #174EA6;\n",
              "      --disabled-fill-color: #AAA;\n",
              "      --disabled-bg-color: #DDD;\n",
              "  }\n",
              "\n",
              "  [theme=dark] .colab-df-quickchart {\n",
              "      --bg-color: #3B4455;\n",
              "      --fill-color: #D2E3FC;\n",
              "      --hover-bg-color: #434B5C;\n",
              "      --hover-fill-color: #FFFFFF;\n",
              "      --disabled-bg-color: #3B4455;\n",
              "      --disabled-fill-color: #666;\n",
              "  }\n",
              "\n",
              "  .colab-df-quickchart {\n",
              "    background-color: var(--bg-color);\n",
              "    border: none;\n",
              "    border-radius: 50%;\n",
              "    cursor: pointer;\n",
              "    display: none;\n",
              "    fill: var(--fill-color);\n",
              "    height: 32px;\n",
              "    padding: 0;\n",
              "    width: 32px;\n",
              "  }\n",
              "\n",
              "  .colab-df-quickchart:hover {\n",
              "    background-color: var(--hover-bg-color);\n",
              "    box-shadow: 0 1px 2px rgba(60, 64, 67, 0.3), 0 1px 3px 1px rgba(60, 64, 67, 0.15);\n",
              "    fill: var(--button-hover-fill-color);\n",
              "  }\n",
              "\n",
              "  .colab-df-quickchart-complete:disabled,\n",
              "  .colab-df-quickchart-complete:disabled:hover {\n",
              "    background-color: var(--disabled-bg-color);\n",
              "    fill: var(--disabled-fill-color);\n",
              "    box-shadow: none;\n",
              "  }\n",
              "\n",
              "  .colab-df-spinner {\n",
              "    border: 2px solid var(--fill-color);\n",
              "    border-color: transparent;\n",
              "    border-bottom-color: var(--fill-color);\n",
              "    animation:\n",
              "      spin 1s steps(1) infinite;\n",
              "  }\n",
              "\n",
              "  @keyframes spin {\n",
              "    0% {\n",
              "      border-color: transparent;\n",
              "      border-bottom-color: var(--fill-color);\n",
              "      border-left-color: var(--fill-color);\n",
              "    }\n",
              "    20% {\n",
              "      border-color: transparent;\n",
              "      border-left-color: var(--fill-color);\n",
              "      border-top-color: var(--fill-color);\n",
              "    }\n",
              "    30% {\n",
              "      border-color: transparent;\n",
              "      border-left-color: var(--fill-color);\n",
              "      border-top-color: var(--fill-color);\n",
              "      border-right-color: var(--fill-color);\n",
              "    }\n",
              "    40% {\n",
              "      border-color: transparent;\n",
              "      border-right-color: var(--fill-color);\n",
              "      border-top-color: var(--fill-color);\n",
              "    }\n",
              "    60% {\n",
              "      border-color: transparent;\n",
              "      border-right-color: var(--fill-color);\n",
              "    }\n",
              "    80% {\n",
              "      border-color: transparent;\n",
              "      border-right-color: var(--fill-color);\n",
              "      border-bottom-color: var(--fill-color);\n",
              "    }\n",
              "    90% {\n",
              "      border-color: transparent;\n",
              "      border-bottom-color: var(--fill-color);\n",
              "    }\n",
              "  }\n",
              "</style>\n",
              "\n",
              "      <script>\n",
              "        async function quickchart(key) {\n",
              "          const quickchartButtonEl =\n",
              "            document.querySelector('#' + key + ' button');\n",
              "          quickchartButtonEl.disabled = true;  // To prevent multiple clicks.\n",
              "          quickchartButtonEl.classList.add('colab-df-spinner');\n",
              "          try {\n",
              "            const charts = await google.colab.kernel.invokeFunction(\n",
              "                'suggestCharts', [key], {});\n",
              "          } catch (error) {\n",
              "            console.error('Error during call to suggestCharts:', error);\n",
              "          }\n",
              "          quickchartButtonEl.classList.remove('colab-df-spinner');\n",
              "          quickchartButtonEl.classList.add('colab-df-quickchart-complete');\n",
              "        }\n",
              "        (() => {\n",
              "          let quickchartButtonEl =\n",
              "            document.querySelector('#df-439e3f47-7e28-400f-bbb8-fdfdbbb7060c button');\n",
              "          quickchartButtonEl.style.display =\n",
              "            google.colab.kernel.accessAllowed ? 'block' : 'none';\n",
              "        })();\n",
              "      </script>\n",
              "    </div>\n",
              "\n",
              "  <div id=\"id_9608b1e4-b591-4760-966f-518745746561\">\n",
              "    <style>\n",
              "      .colab-df-generate {\n",
              "        background-color: #E8F0FE;\n",
              "        border: none;\n",
              "        border-radius: 50%;\n",
              "        cursor: pointer;\n",
              "        display: none;\n",
              "        fill: #1967D2;\n",
              "        height: 32px;\n",
              "        padding: 0 0 0 0;\n",
              "        width: 32px;\n",
              "      }\n",
              "\n",
              "      .colab-df-generate:hover {\n",
              "        background-color: #E2EBFA;\n",
              "        box-shadow: 0px 1px 2px rgba(60, 64, 67, 0.3), 0px 1px 3px 1px rgba(60, 64, 67, 0.15);\n",
              "        fill: #174EA6;\n",
              "      }\n",
              "\n",
              "      [theme=dark] .colab-df-generate {\n",
              "        background-color: #3B4455;\n",
              "        fill: #D2E3FC;\n",
              "      }\n",
              "\n",
              "      [theme=dark] .colab-df-generate:hover {\n",
              "        background-color: #434B5C;\n",
              "        box-shadow: 0px 1px 3px 1px rgba(0, 0, 0, 0.15);\n",
              "        filter: drop-shadow(0px 1px 2px rgba(0, 0, 0, 0.3));\n",
              "        fill: #FFFFFF;\n",
              "      }\n",
              "    </style>\n",
              "    <button class=\"colab-df-generate\" onclick=\"generateWithVariable('table')\"\n",
              "            title=\"Generate code using this dataframe.\"\n",
              "            style=\"display:none;\">\n",
              "\n",
              "  <svg xmlns=\"http://www.w3.org/2000/svg\" height=\"24px\"viewBox=\"0 0 24 24\"\n",
              "       width=\"24px\">\n",
              "    <path d=\"M7,19H8.4L18.45,9,17,7.55,7,17.6ZM5,21V16.75L18.45,3.32a2,2,0,0,1,2.83,0l1.4,1.43a1.91,1.91,0,0,1,.58,1.4,1.91,1.91,0,0,1-.58,1.4L9.25,21ZM18.45,9,17,7.55Zm-12,3A5.31,5.31,0,0,0,4.9,8.1,5.31,5.31,0,0,0,1,6.5,5.31,5.31,0,0,0,4.9,4.9,5.31,5.31,0,0,0,6.5,1,5.31,5.31,0,0,0,8.1,4.9,5.31,5.31,0,0,0,12,6.5,5.46,5.46,0,0,0,6.5,12Z\"/>\n",
              "  </svg>\n",
              "    </button>\n",
              "    <script>\n",
              "      (() => {\n",
              "      const buttonEl =\n",
              "        document.querySelector('#id_9608b1e4-b591-4760-966f-518745746561 button.colab-df-generate');\n",
              "      buttonEl.style.display =\n",
              "        google.colab.kernel.accessAllowed ? 'block' : 'none';\n",
              "\n",
              "      buttonEl.onclick = () => {\n",
              "        google.colab.notebook.generateWithVariable('table');\n",
              "      }\n",
              "      })();\n",
              "    </script>\n",
              "  </div>\n",
              "\n",
              "    </div>\n",
              "  </div>\n"
            ],
            "application/vnd.google.colaboratory.intrinsic+json": {
              "type": "dataframe",
              "variable_name": "table",
              "summary": "{\n  \"name\": \"table\",\n  \"rows\": 7,\n  \"fields\": [\n    {\n      \"column\": \"name\",\n      \"properties\": {\n        \"dtype\": \"string\",\n        \"num_unique_values\": 7,\n        \"samples\": [\n          \"Ammar\",\n          \"Alex\",\n          \"Isaac2\"\n        ],\n        \"semantic_type\": \"\",\n        \"description\": \"\"\n      }\n    },\n    {\n      \"column\": \"Course\",\n      \"properties\": {\n        \"dtype\": \"category\",\n        \"num_unique_values\": 3,\n        \"samples\": [\n          \"Data Science\",\n          \"Data Engineering\",\n          \"Information System\"\n        ],\n        \"semantic_type\": \"\",\n        \"description\": \"\"\n      }\n    },\n    {\n      \"column\": \"state\",\n      \"properties\": {\n        \"dtype\": \"string\",\n        \"num_unique_values\": 6,\n        \"samples\": [\n          \"Kaduna\",\n          \"Rivers\",\n          \"Nasarawa\"\n        ],\n        \"semantic_type\": \"\",\n        \"description\": \"\"\n      }\n    }\n  ]\n}"
            }
          },
          "metadata": {},
          "execution_count": 22
        }
      ],
      "source": [
        "table"
      ]
    },
    {
      "cell_type": "code",
      "execution_count": null,
      "metadata": {
        "colab": {
          "base_uri": "https://localhost:8080/",
          "height": 143
        },
        "id": "PgWzlRBplj0_",
        "outputId": "950734bb-f8db-49c4-d0d3-45c6f63ca742"
      },
      "outputs": [
        {
          "output_type": "execute_result",
          "data": {
            "text/plain": [
              "                   0                 1             2             3  \\\n",
              "name           Ammar              Alex         David        Isaac1   \n",
              "Course  Data Science  Data Engineering  Data Science  Data Science   \n",
              "state         Kaduna            Rivers         Abuja         Benue   \n",
              "\n",
              "                   4             5                   6  \n",
              "name          Praise        Isaac2          Mr. Christ  \n",
              "Course  Data Science  Data Science  Information System  \n",
              "state            Edo      Nasarawa                 Edo  "
            ],
            "text/html": [
              "\n",
              "  <div id=\"df-4ef86f1c-1982-45da-a728-af8ab9c1d97b\" class=\"colab-df-container\">\n",
              "    <div>\n",
              "<style scoped>\n",
              "    .dataframe tbody tr th:only-of-type {\n",
              "        vertical-align: middle;\n",
              "    }\n",
              "\n",
              "    .dataframe tbody tr th {\n",
              "        vertical-align: top;\n",
              "    }\n",
              "\n",
              "    .dataframe thead th {\n",
              "        text-align: right;\n",
              "    }\n",
              "</style>\n",
              "<table border=\"1\" class=\"dataframe\">\n",
              "  <thead>\n",
              "    <tr style=\"text-align: right;\">\n",
              "      <th></th>\n",
              "      <th>0</th>\n",
              "      <th>1</th>\n",
              "      <th>2</th>\n",
              "      <th>3</th>\n",
              "      <th>4</th>\n",
              "      <th>5</th>\n",
              "      <th>6</th>\n",
              "    </tr>\n",
              "  </thead>\n",
              "  <tbody>\n",
              "    <tr>\n",
              "      <th>name</th>\n",
              "      <td>Ammar</td>\n",
              "      <td>Alex</td>\n",
              "      <td>David</td>\n",
              "      <td>Isaac1</td>\n",
              "      <td>Praise</td>\n",
              "      <td>Isaac2</td>\n",
              "      <td>Mr. Christ</td>\n",
              "    </tr>\n",
              "    <tr>\n",
              "      <th>Course</th>\n",
              "      <td>Data Science</td>\n",
              "      <td>Data Engineering</td>\n",
              "      <td>Data Science</td>\n",
              "      <td>Data Science</td>\n",
              "      <td>Data Science</td>\n",
              "      <td>Data Science</td>\n",
              "      <td>Information System</td>\n",
              "    </tr>\n",
              "    <tr>\n",
              "      <th>state</th>\n",
              "      <td>Kaduna</td>\n",
              "      <td>Rivers</td>\n",
              "      <td>Abuja</td>\n",
              "      <td>Benue</td>\n",
              "      <td>Edo</td>\n",
              "      <td>Nasarawa</td>\n",
              "      <td>Edo</td>\n",
              "    </tr>\n",
              "  </tbody>\n",
              "</table>\n",
              "</div>\n",
              "    <div class=\"colab-df-buttons\">\n",
              "\n",
              "  <div class=\"colab-df-container\">\n",
              "    <button class=\"colab-df-convert\" onclick=\"convertToInteractive('df-4ef86f1c-1982-45da-a728-af8ab9c1d97b')\"\n",
              "            title=\"Convert this dataframe to an interactive table.\"\n",
              "            style=\"display:none;\">\n",
              "\n",
              "  <svg xmlns=\"http://www.w3.org/2000/svg\" height=\"24px\" viewBox=\"0 -960 960 960\">\n",
              "    <path d=\"M120-120v-720h720v720H120Zm60-500h600v-160H180v160Zm220 220h160v-160H400v160Zm0 220h160v-160H400v160ZM180-400h160v-160H180v160Zm440 0h160v-160H620v160ZM180-180h160v-160H180v160Zm440 0h160v-160H620v160Z\"/>\n",
              "  </svg>\n",
              "    </button>\n",
              "\n",
              "  <style>\n",
              "    .colab-df-container {\n",
              "      display:flex;\n",
              "      gap: 12px;\n",
              "    }\n",
              "\n",
              "    .colab-df-convert {\n",
              "      background-color: #E8F0FE;\n",
              "      border: none;\n",
              "      border-radius: 50%;\n",
              "      cursor: pointer;\n",
              "      display: none;\n",
              "      fill: #1967D2;\n",
              "      height: 32px;\n",
              "      padding: 0 0 0 0;\n",
              "      width: 32px;\n",
              "    }\n",
              "\n",
              "    .colab-df-convert:hover {\n",
              "      background-color: #E2EBFA;\n",
              "      box-shadow: 0px 1px 2px rgba(60, 64, 67, 0.3), 0px 1px 3px 1px rgba(60, 64, 67, 0.15);\n",
              "      fill: #174EA6;\n",
              "    }\n",
              "\n",
              "    .colab-df-buttons div {\n",
              "      margin-bottom: 4px;\n",
              "    }\n",
              "\n",
              "    [theme=dark] .colab-df-convert {\n",
              "      background-color: #3B4455;\n",
              "      fill: #D2E3FC;\n",
              "    }\n",
              "\n",
              "    [theme=dark] .colab-df-convert:hover {\n",
              "      background-color: #434B5C;\n",
              "      box-shadow: 0px 1px 3px 1px rgba(0, 0, 0, 0.15);\n",
              "      filter: drop-shadow(0px 1px 2px rgba(0, 0, 0, 0.3));\n",
              "      fill: #FFFFFF;\n",
              "    }\n",
              "  </style>\n",
              "\n",
              "    <script>\n",
              "      const buttonEl =\n",
              "        document.querySelector('#df-4ef86f1c-1982-45da-a728-af8ab9c1d97b button.colab-df-convert');\n",
              "      buttonEl.style.display =\n",
              "        google.colab.kernel.accessAllowed ? 'block' : 'none';\n",
              "\n",
              "      async function convertToInteractive(key) {\n",
              "        const element = document.querySelector('#df-4ef86f1c-1982-45da-a728-af8ab9c1d97b');\n",
              "        const dataTable =\n",
              "          await google.colab.kernel.invokeFunction('convertToInteractive',\n",
              "                                                    [key], {});\n",
              "        if (!dataTable) return;\n",
              "\n",
              "        const docLinkHtml = 'Like what you see? Visit the ' +\n",
              "          '<a target=\"_blank\" href=https://colab.research.google.com/notebooks/data_table.ipynb>data table notebook</a>'\n",
              "          + ' to learn more about interactive tables.';\n",
              "        element.innerHTML = '';\n",
              "        dataTable['output_type'] = 'display_data';\n",
              "        await google.colab.output.renderOutput(dataTable, element);\n",
              "        const docLink = document.createElement('div');\n",
              "        docLink.innerHTML = docLinkHtml;\n",
              "        element.appendChild(docLink);\n",
              "      }\n",
              "    </script>\n",
              "  </div>\n",
              "\n",
              "\n",
              "    <div id=\"df-f656b54b-243f-474d-a923-10c5497d7b9f\">\n",
              "      <button class=\"colab-df-quickchart\" onclick=\"quickchart('df-f656b54b-243f-474d-a923-10c5497d7b9f')\"\n",
              "                title=\"Suggest charts\"\n",
              "                style=\"display:none;\">\n",
              "\n",
              "<svg xmlns=\"http://www.w3.org/2000/svg\" height=\"24px\"viewBox=\"0 0 24 24\"\n",
              "     width=\"24px\">\n",
              "    <g>\n",
              "        <path d=\"M19 3H5c-1.1 0-2 .9-2 2v14c0 1.1.9 2 2 2h14c1.1 0 2-.9 2-2V5c0-1.1-.9-2-2-2zM9 17H7v-7h2v7zm4 0h-2V7h2v10zm4 0h-2v-4h2v4z\"/>\n",
              "    </g>\n",
              "</svg>\n",
              "      </button>\n",
              "\n",
              "<style>\n",
              "  .colab-df-quickchart {\n",
              "      --bg-color: #E8F0FE;\n",
              "      --fill-color: #1967D2;\n",
              "      --hover-bg-color: #E2EBFA;\n",
              "      --hover-fill-color: #174EA6;\n",
              "      --disabled-fill-color: #AAA;\n",
              "      --disabled-bg-color: #DDD;\n",
              "  }\n",
              "\n",
              "  [theme=dark] .colab-df-quickchart {\n",
              "      --bg-color: #3B4455;\n",
              "      --fill-color: #D2E3FC;\n",
              "      --hover-bg-color: #434B5C;\n",
              "      --hover-fill-color: #FFFFFF;\n",
              "      --disabled-bg-color: #3B4455;\n",
              "      --disabled-fill-color: #666;\n",
              "  }\n",
              "\n",
              "  .colab-df-quickchart {\n",
              "    background-color: var(--bg-color);\n",
              "    border: none;\n",
              "    border-radius: 50%;\n",
              "    cursor: pointer;\n",
              "    display: none;\n",
              "    fill: var(--fill-color);\n",
              "    height: 32px;\n",
              "    padding: 0;\n",
              "    width: 32px;\n",
              "  }\n",
              "\n",
              "  .colab-df-quickchart:hover {\n",
              "    background-color: var(--hover-bg-color);\n",
              "    box-shadow: 0 1px 2px rgba(60, 64, 67, 0.3), 0 1px 3px 1px rgba(60, 64, 67, 0.15);\n",
              "    fill: var(--button-hover-fill-color);\n",
              "  }\n",
              "\n",
              "  .colab-df-quickchart-complete:disabled,\n",
              "  .colab-df-quickchart-complete:disabled:hover {\n",
              "    background-color: var(--disabled-bg-color);\n",
              "    fill: var(--disabled-fill-color);\n",
              "    box-shadow: none;\n",
              "  }\n",
              "\n",
              "  .colab-df-spinner {\n",
              "    border: 2px solid var(--fill-color);\n",
              "    border-color: transparent;\n",
              "    border-bottom-color: var(--fill-color);\n",
              "    animation:\n",
              "      spin 1s steps(1) infinite;\n",
              "  }\n",
              "\n",
              "  @keyframes spin {\n",
              "    0% {\n",
              "      border-color: transparent;\n",
              "      border-bottom-color: var(--fill-color);\n",
              "      border-left-color: var(--fill-color);\n",
              "    }\n",
              "    20% {\n",
              "      border-color: transparent;\n",
              "      border-left-color: var(--fill-color);\n",
              "      border-top-color: var(--fill-color);\n",
              "    }\n",
              "    30% {\n",
              "      border-color: transparent;\n",
              "      border-left-color: var(--fill-color);\n",
              "      border-top-color: var(--fill-color);\n",
              "      border-right-color: var(--fill-color);\n",
              "    }\n",
              "    40% {\n",
              "      border-color: transparent;\n",
              "      border-right-color: var(--fill-color);\n",
              "      border-top-color: var(--fill-color);\n",
              "    }\n",
              "    60% {\n",
              "      border-color: transparent;\n",
              "      border-right-color: var(--fill-color);\n",
              "    }\n",
              "    80% {\n",
              "      border-color: transparent;\n",
              "      border-right-color: var(--fill-color);\n",
              "      border-bottom-color: var(--fill-color);\n",
              "    }\n",
              "    90% {\n",
              "      border-color: transparent;\n",
              "      border-bottom-color: var(--fill-color);\n",
              "    }\n",
              "  }\n",
              "</style>\n",
              "\n",
              "      <script>\n",
              "        async function quickchart(key) {\n",
              "          const quickchartButtonEl =\n",
              "            document.querySelector('#' + key + ' button');\n",
              "          quickchartButtonEl.disabled = true;  // To prevent multiple clicks.\n",
              "          quickchartButtonEl.classList.add('colab-df-spinner');\n",
              "          try {\n",
              "            const charts = await google.colab.kernel.invokeFunction(\n",
              "                'suggestCharts', [key], {});\n",
              "          } catch (error) {\n",
              "            console.error('Error during call to suggestCharts:', error);\n",
              "          }\n",
              "          quickchartButtonEl.classList.remove('colab-df-spinner');\n",
              "          quickchartButtonEl.classList.add('colab-df-quickchart-complete');\n",
              "        }\n",
              "        (() => {\n",
              "          let quickchartButtonEl =\n",
              "            document.querySelector('#df-f656b54b-243f-474d-a923-10c5497d7b9f button');\n",
              "          quickchartButtonEl.style.display =\n",
              "            google.colab.kernel.accessAllowed ? 'block' : 'none';\n",
              "        })();\n",
              "      </script>\n",
              "    </div>\n",
              "\n",
              "  <div id=\"id_cf47eaa7-1b6d-4806-b7bb-02a2f3f7de63\">\n",
              "    <style>\n",
              "      .colab-df-generate {\n",
              "        background-color: #E8F0FE;\n",
              "        border: none;\n",
              "        border-radius: 50%;\n",
              "        cursor: pointer;\n",
              "        display: none;\n",
              "        fill: #1967D2;\n",
              "        height: 32px;\n",
              "        padding: 0 0 0 0;\n",
              "        width: 32px;\n",
              "      }\n",
              "\n",
              "      .colab-df-generate:hover {\n",
              "        background-color: #E2EBFA;\n",
              "        box-shadow: 0px 1px 2px rgba(60, 64, 67, 0.3), 0px 1px 3px 1px rgba(60, 64, 67, 0.15);\n",
              "        fill: #174EA6;\n",
              "      }\n",
              "\n",
              "      [theme=dark] .colab-df-generate {\n",
              "        background-color: #3B4455;\n",
              "        fill: #D2E3FC;\n",
              "      }\n",
              "\n",
              "      [theme=dark] .colab-df-generate:hover {\n",
              "        background-color: #434B5C;\n",
              "        box-shadow: 0px 1px 3px 1px rgba(0, 0, 0, 0.15);\n",
              "        filter: drop-shadow(0px 1px 2px rgba(0, 0, 0, 0.3));\n",
              "        fill: #FFFFFF;\n",
              "      }\n",
              "    </style>\n",
              "    <button class=\"colab-df-generate\" onclick=\"generateWithVariable('transpose')\"\n",
              "            title=\"Generate code using this dataframe.\"\n",
              "            style=\"display:none;\">\n",
              "\n",
              "  <svg xmlns=\"http://www.w3.org/2000/svg\" height=\"24px\"viewBox=\"0 0 24 24\"\n",
              "       width=\"24px\">\n",
              "    <path d=\"M7,19H8.4L18.45,9,17,7.55,7,17.6ZM5,21V16.75L18.45,3.32a2,2,0,0,1,2.83,0l1.4,1.43a1.91,1.91,0,0,1,.58,1.4,1.91,1.91,0,0,1-.58,1.4L9.25,21ZM18.45,9,17,7.55Zm-12,3A5.31,5.31,0,0,0,4.9,8.1,5.31,5.31,0,0,0,1,6.5,5.31,5.31,0,0,0,4.9,4.9,5.31,5.31,0,0,0,6.5,1,5.31,5.31,0,0,0,8.1,4.9,5.31,5.31,0,0,0,12,6.5,5.46,5.46,0,0,0,6.5,12Z\"/>\n",
              "  </svg>\n",
              "    </button>\n",
              "    <script>\n",
              "      (() => {\n",
              "      const buttonEl =\n",
              "        document.querySelector('#id_cf47eaa7-1b6d-4806-b7bb-02a2f3f7de63 button.colab-df-generate');\n",
              "      buttonEl.style.display =\n",
              "        google.colab.kernel.accessAllowed ? 'block' : 'none';\n",
              "\n",
              "      buttonEl.onclick = () => {\n",
              "        google.colab.notebook.generateWithVariable('transpose');\n",
              "      }\n",
              "      })();\n",
              "    </script>\n",
              "  </div>\n",
              "\n",
              "    </div>\n",
              "  </div>\n"
            ],
            "application/vnd.google.colaboratory.intrinsic+json": {
              "type": "dataframe",
              "variable_name": "transpose",
              "summary": "{\n  \"name\": \"transpose\",\n  \"rows\": 3,\n  \"fields\": [\n    {\n      \"column\": 0,\n      \"properties\": {\n        \"dtype\": \"string\",\n        \"num_unique_values\": 3,\n        \"samples\": [\n          \"Ammar\",\n          \"Data Science\",\n          \"Kaduna\"\n        ],\n        \"semantic_type\": \"\",\n        \"description\": \"\"\n      }\n    },\n    {\n      \"column\": 1,\n      \"properties\": {\n        \"dtype\": \"string\",\n        \"num_unique_values\": 3,\n        \"samples\": [\n          \"Alex\",\n          \"Data Engineering\",\n          \"Rivers\"\n        ],\n        \"semantic_type\": \"\",\n        \"description\": \"\"\n      }\n    },\n    {\n      \"column\": 2,\n      \"properties\": {\n        \"dtype\": \"string\",\n        \"num_unique_values\": 3,\n        \"samples\": [\n          \"David\",\n          \"Data Science\",\n          \"Abuja\"\n        ],\n        \"semantic_type\": \"\",\n        \"description\": \"\"\n      }\n    },\n    {\n      \"column\": 3,\n      \"properties\": {\n        \"dtype\": \"string\",\n        \"num_unique_values\": 3,\n        \"samples\": [\n          \"Isaac1\",\n          \"Data Science\",\n          \"Benue\"\n        ],\n        \"semantic_type\": \"\",\n        \"description\": \"\"\n      }\n    },\n    {\n      \"column\": 4,\n      \"properties\": {\n        \"dtype\": \"string\",\n        \"num_unique_values\": 3,\n        \"samples\": [\n          \"Praise\",\n          \"Data Science\",\n          \"Edo\"\n        ],\n        \"semantic_type\": \"\",\n        \"description\": \"\"\n      }\n    },\n    {\n      \"column\": 5,\n      \"properties\": {\n        \"dtype\": \"string\",\n        \"num_unique_values\": 3,\n        \"samples\": [\n          \"Isaac2\",\n          \"Data Science\",\n          \"Nasarawa\"\n        ],\n        \"semantic_type\": \"\",\n        \"description\": \"\"\n      }\n    },\n    {\n      \"column\": 6,\n      \"properties\": {\n        \"dtype\": \"string\",\n        \"num_unique_values\": 3,\n        \"samples\": [\n          \"Mr. Christ\",\n          \"Information System\",\n          \"Edo\"\n        ],\n        \"semantic_type\": \"\",\n        \"description\": \"\"\n      }\n    }\n  ]\n}"
            }
          },
          "metadata": {},
          "execution_count": 23
        }
      ],
      "source": [
        "transpose = table.T\n",
        "transpose"
      ]
    },
    {
      "cell_type": "code",
      "execution_count": null,
      "metadata": {
        "colab": {
          "base_uri": "https://localhost:8080/"
        },
        "id": "WB009QfDluFK",
        "outputId": "39681dcc-431e-4111-ec9c-0dd181ebd1a2"
      },
      "outputs": [
        {
          "output_type": "execute_result",
          "data": {
            "text/plain": [
              "(3, 7)"
            ]
          },
          "metadata": {},
          "execution_count": 24
        }
      ],
      "source": [
        "transpose.shape"
      ]
    },
    {
      "cell_type": "markdown",
      "metadata": {
        "id": "C_6UQm70nSBW"
      },
      "source": [
        "**WORKING WITH NUMPY METHODS**\n",
        "1. creating array of ones"
      ]
    },
    {
      "cell_type": "markdown",
      "metadata": {
        "id": "pjiBmsB3oHIa"
      },
      "source": [
        "In neural networks, initial weights are sometimes set to small values (e.g., 0.01) instead of zeros to avoid symmetry problems."
      ]
    },
    {
      "cell_type": "code",
      "execution_count": null,
      "metadata": {
        "colab": {
          "base_uri": "https://localhost:8080/"
        },
        "id": "tJLF9OtzmajB",
        "outputId": "aae87829-1ee0-4a45-d685-ab7a2cb72fcd"
      },
      "outputs": [
        {
          "output_type": "execute_result",
          "data": {
            "text/plain": [
              "array([1., 1., 1., 1., 1., 1., 1., 1., 1., 1., 1., 1., 1., 1., 1., 1., 1.,\n",
              "       1., 1., 1., 1., 1., 1., 1., 1., 1., 1., 1., 1., 1., 1., 1., 1., 1.,\n",
              "       1., 1., 1., 1., 1., 1., 1., 1., 1., 1., 1., 1., 1., 1., 1., 1., 1.,\n",
              "       1., 1., 1., 1., 1., 1., 1., 1., 1., 1., 1., 1., 1., 1., 1., 1., 1.,\n",
              "       1., 1., 1., 1., 1., 1., 1., 1., 1., 1., 1., 1., 1., 1., 1., 1., 1.,\n",
              "       1., 1., 1., 1., 1., 1., 1., 1., 1., 1., 1., 1., 1., 1., 1.])"
            ]
          },
          "metadata": {},
          "execution_count": 25
        }
      ],
      "source": [
        "# creating array of ones using the ones() method in numpy\n",
        "array_of_ones =np.ones(100)\n",
        "array_of_ones"
      ]
    },
    {
      "cell_type": "code",
      "execution_count": null,
      "metadata": {
        "colab": {
          "base_uri": "https://localhost:8080/"
        },
        "id": "yDNUYg7Sn-M_",
        "outputId": "96993ff8-5d88-49cb-de94-87c118766810"
      },
      "outputs": [
        {
          "output_type": "execute_result",
          "data": {
            "text/plain": [
              "dtype('float64')"
            ]
          },
          "metadata": {},
          "execution_count": 26
        }
      ],
      "source": [
        "# checking for the data type that the array of ones created is having\n",
        "array_of_ones.dtype"
      ]
    },
    {
      "cell_type": "code",
      "execution_count": null,
      "metadata": {
        "colab": {
          "base_uri": "https://localhost:8080/"
        },
        "id": "zoPeAHgLo-Sm",
        "outputId": "6e845327-ff9e-4040-e507-71e975a99ebb"
      },
      "outputs": [
        {
          "output_type": "execute_result",
          "data": {
            "text/plain": [
              "array([1, 1, 1, 1, 1, 1, 1, 1, 1, 1, 1, 1, 1, 1, 1, 1, 1, 1, 1, 1, 1, 1,\n",
              "       1, 1, 1, 1, 1, 1, 1, 1, 1, 1, 1, 1, 1, 1, 1, 1, 1, 1, 1, 1, 1, 1,\n",
              "       1, 1, 1, 1, 1, 1, 1, 1, 1, 1, 1, 1, 1, 1, 1, 1, 1, 1, 1, 1, 1, 1,\n",
              "       1, 1, 1, 1, 1, 1, 1, 1, 1, 1, 1, 1, 1, 1, 1, 1, 1, 1, 1, 1, 1, 1,\n",
              "       1, 1, 1, 1, 1, 1, 1, 1, 1, 1, 1, 1])"
            ]
          },
          "metadata": {},
          "execution_count": 27
        }
      ],
      "source": [
        "# creating array of ones using the ones() method in numpy with a specific data type\n",
        "array_of_ones =np.ones(100, dtype=int)\n",
        "array_of_ones"
      ]
    },
    {
      "cell_type": "code",
      "execution_count": null,
      "metadata": {
        "colab": {
          "base_uri": "https://localhost:8080/"
        },
        "id": "qfx_y59QpxIl",
        "outputId": "1eb72a6d-b36c-48af-e8d1-448e64c40653"
      },
      "outputs": [
        {
          "output_type": "execute_result",
          "data": {
            "text/plain": [
              "dtype('int64')"
            ]
          },
          "metadata": {},
          "execution_count": 28
        }
      ],
      "source": [
        "array_of_ones.dtype"
      ]
    },
    {
      "cell_type": "code",
      "execution_count": null,
      "metadata": {
        "id": "xRw_9p_4p70P"
      },
      "outputs": [],
      "source": [
        "matrix = np.array([[2, 3, 4], [4, 5, 4], [3, 7, 8]])\n",
        "ones = np.ones((3,3))\n",
        "\n"
      ]
    },
    {
      "cell_type": "code",
      "execution_count": null,
      "metadata": {
        "colab": {
          "base_uri": "https://localhost:8080/"
        },
        "id": "nmQTWVV6qPgJ",
        "outputId": "d31d0eca-f743-4119-c1ae-48510d71bf8e"
      },
      "outputs": [
        {
          "output_type": "execute_result",
          "data": {
            "text/plain": [
              "array([[2., 3., 4.],\n",
              "       [4., 5., 4.],\n",
              "       [3., 7., 8.]])"
            ]
          },
          "metadata": {},
          "execution_count": 30
        }
      ],
      "source": [
        "result= matrix * ones\n",
        "result"
      ]
    },
    {
      "cell_type": "markdown",
      "metadata": {
        "id": "cuPm419ms5_F"
      },
      "source": [
        "2. **Creating Array of Zeros**"
      ]
    },
    {
      "cell_type": "code",
      "execution_count": null,
      "metadata": {
        "colab": {
          "base_uri": "https://localhost:8080/"
        },
        "id": "ecZjOYJjqVeI",
        "outputId": "00c8e31c-d126-4b0e-e695-b7da5d20b620"
      },
      "outputs": [
        {
          "output_type": "execute_result",
          "data": {
            "text/plain": [
              "array([0, 0, 0, 0, 0, 0, 0, 0, 0, 0, 0, 0, 0, 0, 0, 0, 0, 0, 0, 0, 0, 0,\n",
              "       0, 0, 0, 0, 0, 0, 0, 0, 0, 0, 0, 0, 0, 0, 0, 0, 0, 0, 0, 0, 0, 0,\n",
              "       0, 0, 0, 0, 0, 0, 0, 0, 0, 0, 0, 0, 0, 0, 0, 0, 0, 0, 0, 0, 0, 0,\n",
              "       0, 0, 0, 0, 0, 0, 0, 0, 0, 0, 0, 0, 0, 0, 0, 0, 0, 0, 0, 0, 0, 0,\n",
              "       0, 0, 0, 0, 0, 0, 0, 0, 0, 0, 0, 0])"
            ]
          },
          "metadata": {},
          "execution_count": 31
        }
      ],
      "source": [
        "#zeros\n",
        "array_of_zeros =np.zeros(100, dtype=int)\n",
        "array_of_zeros"
      ]
    },
    {
      "cell_type": "code",
      "execution_count": null,
      "metadata": {
        "colab": {
          "base_uri": "https://localhost:8080/"
        },
        "id": "kVd_bcLOtIjJ",
        "outputId": "769e3bb0-83c4-4bb5-fa0d-44878b42e711"
      },
      "outputs": [
        {
          "output_type": "execute_result",
          "data": {
            "text/plain": [
              "(3, 3)"
            ]
          },
          "metadata": {},
          "execution_count": 32
        }
      ],
      "source": [
        "# creating 2 dimensional array of zeros\n",
        "array_of_zeros =np.zeros((3,3), dtype=int)\n",
        "array_of_zeros.shape"
      ]
    },
    {
      "cell_type": "code",
      "execution_count": null,
      "metadata": {
        "colab": {
          "base_uri": "https://localhost:8080/"
        },
        "id": "expuuhShttuB",
        "outputId": "91a8e9b9-e758-4fe6-c5b7-77378db56d79"
      },
      "outputs": [
        {
          "output_type": "execute_result",
          "data": {
            "text/plain": [
              "array([[0, 0, 0],\n",
              "       [0, 0, 0],\n",
              "       [0, 0, 0]])"
            ]
          },
          "metadata": {},
          "execution_count": 33
        }
      ],
      "source": [
        "# using the array of zeros to m\n",
        "matrix = np.array([[2, 3, 4], [4, 5, 4], [3, 7, 8]])\n",
        "matrix * array_of_zeros"
      ]
    },
    {
      "cell_type": "markdown",
      "metadata": {
        "id": "g04ZAgH_uzVJ"
      },
      "source": [
        "3. Creating a full array in numpy using the full() method"
      ]
    },
    {
      "cell_type": "code",
      "execution_count": null,
      "metadata": {
        "colab": {
          "base_uri": "https://localhost:8080/"
        },
        "id": "HBTG_9-1uM3d",
        "outputId": "923cb5bb-b74c-40e6-a05e-79d69408d7e7"
      },
      "outputs": [
        {
          "output_type": "execute_result",
          "data": {
            "text/plain": [
              "array([[7, 7, 7, 7, 7],\n",
              "       [7, 7, 7, 7, 7],\n",
              "       [7, 7, 7, 7, 7],\n",
              "       [7, 7, 7, 7, 7],\n",
              "       [7, 7, 7, 7, 7]])"
            ]
          },
          "metadata": {},
          "execution_count": 34
        }
      ],
      "source": [
        "# creating an array that contains only 7 with 5 rows and 5 columns\n",
        "np.full((5, 5), 7)"
      ]
    },
    {
      "cell_type": "markdown",
      "metadata": {
        "id": "Q33Wn8jNvtW9"
      },
      "source": [
        "4. **Eye method**: The np.eye() method creates a square matrix with 1s on the diagonal and 0s elsewhere. It is commonly used for identity matrices in linear algebra."
      ]
    },
    {
      "cell_type": "code",
      "execution_count": null,
      "metadata": {
        "colab": {
          "base_uri": "https://localhost:8080/"
        },
        "id": "e1PoB4IxN3C2",
        "outputId": "17732fc9-06df-45f1-9d68-08049e0e8cee"
      },
      "outputs": [
        {
          "output_type": "execute_result",
          "data": {
            "text/plain": [
              "array([[1., 0., 0., 0., 0., 0., 0., 0.],\n",
              "       [0., 1., 0., 0., 0., 0., 0., 0.],\n",
              "       [0., 0., 1., 0., 0., 0., 0., 0.],\n",
              "       [0., 0., 0., 1., 0., 0., 0., 0.],\n",
              "       [0., 0., 0., 0., 1., 0., 0., 0.],\n",
              "       [0., 0., 0., 0., 0., 1., 0., 0.],\n",
              "       [0., 0., 0., 0., 0., 0., 1., 0.],\n",
              "       [0., 0., 0., 0., 0., 0., 0., 1.]])"
            ]
          },
          "metadata": {},
          "execution_count": 35
        }
      ],
      "source": [
        "np.eye(8)"
      ]
    },
    {
      "cell_type": "code",
      "execution_count": null,
      "metadata": {
        "colab": {
          "base_uri": "https://localhost:8080/"
        },
        "id": "M5imre7q_pzO",
        "outputId": "5659a50a-afcc-405f-9f91-48a357d1d300"
      },
      "outputs": [
        {
          "output_type": "execute_result",
          "data": {
            "text/plain": [
              "array([[1, 0, 0, 0, 0, 0, 0, 0],\n",
              "       [0, 1, 0, 0, 0, 0, 0, 0],\n",
              "       [0, 0, 1, 0, 0, 0, 0, 0],\n",
              "       [0, 0, 0, 1, 0, 0, 0, 0],\n",
              "       [0, 0, 0, 0, 1, 0, 0, 0],\n",
              "       [0, 0, 0, 0, 0, 1, 0, 0],\n",
              "       [0, 0, 0, 0, 0, 0, 1, 0],\n",
              "       [0, 0, 0, 0, 0, 0, 0, 1]])"
            ]
          },
          "metadata": {},
          "execution_count": 36
        }
      ],
      "source": [
        "np.eye(8, dtype = int)"
      ]
    },
    {
      "cell_type": "markdown",
      "metadata": {
        "id": "Xyd6m5eY_fSP"
      },
      "source": [
        "5. **reshape method**: The reshape method in NumPy changes the shape of an array without changing its data. It helps organize data in different dimensions for easier analysis or computation."
      ]
    },
    {
      "cell_type": "code",
      "execution_count": null,
      "metadata": {
        "colab": {
          "base_uri": "https://localhost:8080/"
        },
        "id": "blS_P4IX_o5I",
        "outputId": "6092410f-e67c-4dda-d9a7-24635188b74f"
      },
      "outputs": [
        {
          "output_type": "execute_result",
          "data": {
            "text/plain": [
              "array([ 1,  2,  3,  4,  5,  6,  7,  8,  9, 10, 11, 12])"
            ]
          },
          "metadata": {},
          "execution_count": 37
        }
      ],
      "source": [
        "# creating a numpy array with 12 items\n",
        "numbers = np.array([1, 2, 3, 4, 5, 6, 7, 8, 9, 10, 11, 12])\n",
        "numbers"
      ]
    },
    {
      "cell_type": "markdown",
      "metadata": {
        "id": "MdWvgXM1UsyL"
      },
      "source": [
        "pandas tutorial"
      ]
    },
    {
      "cell_type": "code",
      "execution_count": null,
      "metadata": {
        "id": "EV7sRPXnUxDQ",
        "colab": {
          "base_uri": "https://localhost:8080/"
        },
        "outputId": "e4f7dbde-9044-4c4d-967e-780b24cce048"
      },
      "outputs": [
        {
          "output_type": "stream",
          "name": "stdout",
          "text": [
            "2.2.2\n"
          ]
        }
      ],
      "source": [
        "import pandas as pd\n",
        "print(pd.__version__)\n"
      ]
    },
    {
      "cell_type": "code",
      "execution_count": null,
      "metadata": {
        "colab": {
          "base_uri": "https://localhost:8080/"
        },
        "id": "sPI1nofyOzWO",
        "outputId": "f2f9657d-2d87-4330-f686-86dc4b228211"
      },
      "outputs": [
        {
          "output_type": "execute_result",
          "data": {
            "text/plain": [
              "1"
            ]
          },
          "metadata": {},
          "execution_count": 39
        }
      ],
      "source": [
        "# checking the dimension of the array\n",
        "numbers.ndim\n"
      ]
    },
    {
      "cell_type": "code",
      "execution_count": null,
      "metadata": {
        "id": "HSy8jq0tPO_T",
        "colab": {
          "base_uri": "https://localhost:8080/"
        },
        "outputId": "59dce343-55a8-4a67-d11a-e66c90ede2f9"
      },
      "outputs": [
        {
          "output_type": "execute_result",
          "data": {
            "text/plain": [
              "array([[ 1,  2],\n",
              "       [ 3,  4],\n",
              "       [ 5,  6],\n",
              "       [ 7,  8],\n",
              "       [ 9, 10],\n",
              "       [11, 12]])"
            ]
          },
          "metadata": {},
          "execution_count": 40
        }
      ],
      "source": [
        "# reshaping the numbers array to what\n",
        "\n",
        "two_dimensional_array = numbers.reshape(6, 2)\n",
        "two_dimensional_array"
      ]
    },
    {
      "cell_type": "code",
      "execution_count": null,
      "metadata": {
        "colab": {
          "base_uri": "https://localhost:8080/"
        },
        "id": "8KI4Ca0KRzH2",
        "outputId": "5c7b4b15-0222-4a15-8f2b-13005fb6a94c"
      },
      "outputs": [
        {
          "output_type": "execute_result",
          "data": {
            "text/plain": [
              "array([[ 1,  2,  3,  4,  5,  6,  7,  8,  9, 10, 11, 12, 13, 14, 15]])"
            ]
          },
          "metadata": {},
          "execution_count": 41
        }
      ],
      "source": [
        "names = [[[1, 2, 3, 4, 5], [6, 7, 8, 9,10], [11, 12, 13, 14, 15]]]\n",
        "np.array(names).reshape(1, 15)"
      ]
    },
    {
      "cell_type": "code",
      "execution_count": null,
      "metadata": {
        "colab": {
          "base_uri": "https://localhost:8080/"
        },
        "id": "UePZhZa7aaI7",
        "outputId": "bed08e14-5d2e-4ba2-b5e4-7d484b2e247f"
      },
      "outputs": [
        {
          "output_type": "execute_result",
          "data": {
            "text/plain": [
              "3"
            ]
          },
          "metadata": {},
          "execution_count": 42
        }
      ],
      "source": [
        "num= [[1, 2, 3, 4,5, 6,7,8] ]\n",
        "three_dimensional_array=np.array(num).reshape(2, 2,2)\n",
        "three_dimensional_array.ndim"
      ]
    },
    {
      "cell_type": "markdown",
      "metadata": {
        "id": "0tA-bRGE_6yu"
      },
      "source": [
        "6. **flatten Method**: The flatten method in NumPy converts a multi-dimensional array into a one-dimensional array. It is useful for simplifying data for processing."
      ]
    },
    {
      "cell_type": "code",
      "execution_count": null,
      "metadata": {
        "colab": {
          "base_uri": "https://localhost:8080/"
        },
        "id": "HCtcyQQeAACT",
        "outputId": "ecc63eb7-0206-4e06-86f6-45b176cbff5b"
      },
      "outputs": [
        {
          "output_type": "execute_result",
          "data": {
            "text/plain": [
              "1"
            ]
          },
          "metadata": {},
          "execution_count": 43
        }
      ],
      "source": [
        "one_dimension=three_dimensional_array.flatten()\n",
        "one_dimension.ndim"
      ]
    },
    {
      "cell_type": "markdown",
      "metadata": {
        "id": "akNe_W-JALKf"
      },
      "source": [
        "7. **Linespace method**: The linspace method in NumPy creates an array of evenly spaced numbers between a start and stop value. It is useful for generating sequences."
      ]
    },
    {
      "cell_type": "code",
      "execution_count": null,
      "metadata": {
        "colab": {
          "base_uri": "https://localhost:8080/"
        },
        "id": "szkpGVOb0QKX",
        "outputId": "d640cb12-4e0e-476b-f1aa-d6be2ae4cbae"
      },
      "outputs": [
        {
          "output_type": "execute_result",
          "data": {
            "text/plain": [
              "array([ 1.  ,  3.25,  5.5 ,  7.75, 10.  ])"
            ]
          },
          "metadata": {},
          "execution_count": 44
        }
      ],
      "source": [
        "#\n",
        "np.linspace(1, 10, 5)"
      ]
    },
    {
      "cell_type": "markdown",
      "metadata": {
        "id": "WulisHrd0ROU"
      },
      "source": [
        "8. **arange method**: The arange method in NumPy creates an array with a sequence of numbers at a specified interval. It works like Python's range() but returns an array."
      ]
    },
    {
      "cell_type": "code",
      "execution_count": null,
      "metadata": {
        "colab": {
          "base_uri": "https://localhost:8080/"
        },
        "id": "WObhX71E0csa",
        "outputId": "d65eb139-f0ea-451a-9460-43d6e1761537"
      },
      "outputs": [
        {
          "output_type": "execute_result",
          "data": {
            "text/plain": [
              "array([  1,   2,   3,   4,   5,   6,   7,   8,   9,  10,  11,  12,  13,\n",
              "        14,  15,  16,  17,  18,  19,  20,  21,  22,  23,  24,  25,  26,\n",
              "        27,  28,  29,  30,  31,  32,  33,  34,  35,  36,  37,  38,  39,\n",
              "        40,  41,  42,  43,  44,  45,  46,  47,  48,  49,  50,  51,  52,\n",
              "        53,  54,  55,  56,  57,  58,  59,  60,  61,  62,  63,  64,  65,\n",
              "        66,  67,  68,  69,  70,  71,  72,  73,  74,  75,  76,  77,  78,\n",
              "        79,  80,  81,  82,  83,  84,  85,  86,  87,  88,  89,  90,  91,\n",
              "        92,  93,  94,  95,  96,  97,  98,  99, 100, 101, 102, 103, 104,\n",
              "       105, 106, 107, 108, 109, 110, 111, 112, 113, 114, 115, 116, 117,\n",
              "       118, 119, 120, 121, 122, 123, 124, 125, 126, 127, 128, 129, 130,\n",
              "       131, 132, 133, 134, 135, 136, 137, 138, 139, 140, 141, 142, 143,\n",
              "       144, 145, 146, 147, 148, 149, 150, 151, 152, 153, 154, 155, 156,\n",
              "       157, 158, 159, 160, 161, 162, 163, 164, 165, 166, 167, 168, 169,\n",
              "       170, 171, 172, 173, 174, 175, 176, 177, 178, 179, 180, 181, 182,\n",
              "       183, 184, 185, 186, 187, 188, 189, 190, 191, 192, 193, 194, 195,\n",
              "       196, 197, 198, 199, 200])"
            ]
          },
          "metadata": {},
          "execution_count": 45
        }
      ],
      "source": [
        "# creating numbers using the arange in numpy\n",
        "np.arange(1, 201)"
      ]
    },
    {
      "cell_type": "code",
      "execution_count": null,
      "metadata": {
        "colab": {
          "base_uri": "https://localhost:8080/"
        },
        "id": "5HEHcHgObo-N",
        "outputId": "ca6c0020-6837-41b2-bd95-11c5d7b967ef"
      },
      "outputs": [
        {
          "output_type": "execute_result",
          "data": {
            "text/plain": [
              "array([  2,   4,   6,   8,  10,  12,  14,  16,  18,  20,  22,  24,  26,\n",
              "        28,  30,  32,  34,  36,  38,  40,  42,  44,  46,  48,  50,  52,\n",
              "        54,  56,  58,  60,  62,  64,  66,  68,  70,  72,  74,  76,  78,\n",
              "        80,  82,  84,  86,  88,  90,  92,  94,  96,  98, 100, 102, 104,\n",
              "       106, 108, 110, 112, 114, 116, 118, 120, 122, 124, 126, 128, 130,\n",
              "       132, 134, 136, 138, 140, 142, 144, 146, 148, 150, 152, 154, 156,\n",
              "       158, 160, 162, 164, 166, 168, 170, 172, 174, 176, 178, 180, 182,\n",
              "       184, 186, 188, 190, 192, 194, 196, 198, 200])"
            ]
          },
          "metadata": {},
          "execution_count": 46
        }
      ],
      "source": [
        "np.arange(2, 201, 2)"
      ]
    },
    {
      "cell_type": "markdown",
      "metadata": {
        "id": "GUaWVAi-0ebW"
      },
      "source": [
        "9. **random.rand() method**: The np.random.rand() method generates an array of random numbers between 0 and 1 from a uniform distribution (each number has an equal chance of appearing)."
      ]
    },
    {
      "cell_type": "code",
      "execution_count": null,
      "metadata": {
        "colab": {
          "base_uri": "https://localhost:8080/"
        },
        "id": "TfXs3viyBt7f",
        "outputId": "b5d72ad4-61a7-48cd-f8de-b39b068c5328"
      },
      "outputs": [
        {
          "output_type": "execute_result",
          "data": {
            "text/plain": [
              "array([0.66531291, 0.46680705, 0.41177861, 0.14298873, 0.54211469])"
            ]
          },
          "metadata": {},
          "execution_count": 47
        }
      ],
      "source": [
        "# creating a random values using  the random.rand() numpy method\n",
        "np.random.rand(5)"
      ]
    },
    {
      "cell_type": "code",
      "execution_count": null,
      "metadata": {
        "colab": {
          "base_uri": "https://localhost:8080/"
        },
        "id": "h86NRXXZKU01",
        "outputId": "610f4599-40ed-4bc6-c918-44d88308154c"
      },
      "outputs": [
        {
          "output_type": "execute_result",
          "data": {
            "text/plain": [
              "array([[[0.76441915, 0.91026421, 0.36841101, 0.99740043],\n",
              "        [0.0313034 , 0.70078524, 0.53774804, 0.78051561],\n",
              "        [0.81484213, 0.93739893, 0.79176008, 0.61137366]],\n",
              "\n",
              "       [[0.41722557, 0.20831186, 0.53388473, 0.58498379],\n",
              "        [0.23114966, 0.99855551, 0.97185591, 0.34495422],\n",
              "        [0.99767569, 0.66170264, 0.90602426, 0.37832895]]])"
            ]
          },
          "metadata": {},
          "execution_count": 48
        }
      ],
      "source": [
        "# generating random floating point number with number of rows and columns\n",
        "np.random.rand(2,3,4)\n"
      ]
    },
    {
      "cell_type": "code",
      "execution_count": null,
      "metadata": {
        "colab": {
          "base_uri": "https://localhost:8080/"
        },
        "id": "M2ornl_rd9Kj",
        "outputId": "9bf38f25-6f4b-4515-ca92-b271cb6a4175"
      },
      "outputs": [
        {
          "output_type": "execute_result",
          "data": {
            "text/plain": [
              "2"
            ]
          },
          "metadata": {},
          "execution_count": 49
        }
      ],
      "source": [
        "dim=[[]]\n",
        "np.array(dim).ndim\n"
      ]
    },
    {
      "cell_type": "markdown",
      "metadata": {
        "id": "PmFcfjhO1a3X"
      },
      "source": [
        "10. **random.randint() method**: generates random whole numbers within a given range. You set the smallest and largest number (excluding the largest), and it creates single or multiple random numbers in array form."
      ]
    },
    {
      "cell_type": "code",
      "execution_count": null,
      "metadata": {
        "colab": {
          "base_uri": "https://localhost:8080/"
        },
        "id": "hGrOeNPg1zGI",
        "outputId": "71f842e9-336b-4f71-98e7-516e6b0459c3"
      },
      "outputs": [
        {
          "output_type": "execute_result",
          "data": {
            "text/plain": [
              "561"
            ]
          },
          "metadata": {},
          "execution_count": 50
        }
      ],
      "source": [
        "# generating a random integer number\n",
        "np.random.randint(1, 900)"
      ]
    },
    {
      "cell_type": "code",
      "execution_count": null,
      "metadata": {
        "colab": {
          "base_uri": "https://localhost:8080/"
        },
        "id": "eT7srClH6JMO",
        "outputId": "2e703370-5348-4bde-88db-2d3c13ed26f0"
      },
      "outputs": [
        {
          "output_type": "execute_result",
          "data": {
            "text/plain": [
              "array([454, 431, 426,   6, 847, 108, 182, 862, 384, 458, 256, 296, 684,\n",
              "       663, 883,  52, 222, 570, 391, 347, 711, 503, 198, 144, 192, 561,\n",
              "       652, 437, 775, 274, 467, 617, 221, 324, 828, 392, 534, 471, 728,\n",
              "       160, 254, 535,  40, 899, 271,  82, 106, 524, 618, 402, 395, 738,\n",
              "       644,  62, 804, 675, 214, 274, 799, 868, 656, 857, 348, 745, 129,\n",
              "       517, 431, 299, 544, 775, 592, 106, 550, 595, 785, 473,  23, 281,\n",
              "       864, 589, 443,  56, 833, 743, 186, 645, 490, 487, 563, 516, 217,\n",
              "       641, 502, 675, 815, 341, 157, 799, 803, 221])"
            ]
          },
          "metadata": {},
          "execution_count": 51
        }
      ],
      "source": [
        "# generating random values with a speicfic size\n",
        "np.random.randint(1, 900, 100)"
      ]
    },
    {
      "cell_type": "code",
      "execution_count": null,
      "metadata": {
        "colab": {
          "base_uri": "https://localhost:8080/"
        },
        "id": "A7jq-XGLhHgN",
        "outputId": "cb261f43-ae0d-4021-affd-b43139c16fa1"
      },
      "outputs": [
        {
          "output_type": "execute_result",
          "data": {
            "text/plain": [
              "array([[[[499, 887],\n",
              "         [881,  80]],\n",
              "\n",
              "        [[519, 360],\n",
              "         [832, 179]],\n",
              "\n",
              "        [[464, 303],\n",
              "         [117, 759]],\n",
              "\n",
              "        [[651, 786],\n",
              "         [141, 616]],\n",
              "\n",
              "        [[193, 317],\n",
              "         [702, 861]],\n",
              "\n",
              "        [[473, 334],\n",
              "         [ 22, 317]]],\n",
              "\n",
              "\n",
              "       [[[322, 722],\n",
              "         [488, 423]],\n",
              "\n",
              "        [[803, 404],\n",
              "         [380, 807]],\n",
              "\n",
              "        [[201, 822],\n",
              "         [282, 401]],\n",
              "\n",
              "        [[767, 357],\n",
              "         [175, 109]],\n",
              "\n",
              "        [[880, 180],\n",
              "         [200, 587]],\n",
              "\n",
              "        [[664,  15],\n",
              "         [664, 357]]],\n",
              "\n",
              "\n",
              "       [[[530, 370],\n",
              "         [  8, 730]],\n",
              "\n",
              "        [[425, 654],\n",
              "         [123, 338]],\n",
              "\n",
              "        [[423, 804],\n",
              "         [849, 815]],\n",
              "\n",
              "        [[482, 409],\n",
              "         [794, 558]],\n",
              "\n",
              "        [[899, 612],\n",
              "         [351, 168]],\n",
              "\n",
              "        [[ 76, 209],\n",
              "         [352, 313]]],\n",
              "\n",
              "\n",
              "       [[[633, 728],\n",
              "         [441, 348]],\n",
              "\n",
              "        [[246, 241],\n",
              "         [449,  63]],\n",
              "\n",
              "        [[ 87, 382],\n",
              "         [603, 513]],\n",
              "\n",
              "        [[550, 566],\n",
              "         [ 83, 570]],\n",
              "\n",
              "        [[ 57, 203],\n",
              "         [265, 149]],\n",
              "\n",
              "        [[634, 221],\n",
              "         [ 43, 241]]],\n",
              "\n",
              "\n",
              "       [[[304, 599],\n",
              "         [272, 247]],\n",
              "\n",
              "        [[392, 318],\n",
              "         [876, 445]],\n",
              "\n",
              "        [[ 21, 271],\n",
              "         [604,  11]],\n",
              "\n",
              "        [[619, 550],\n",
              "         [669, 249]],\n",
              "\n",
              "        [[840, 618],\n",
              "         [756,  57]],\n",
              "\n",
              "        [[345, 619],\n",
              "         [753, 799]]],\n",
              "\n",
              "\n",
              "       [[[607, 219],\n",
              "         [425, 837]],\n",
              "\n",
              "        [[492, 227],\n",
              "         [142, 456]],\n",
              "\n",
              "        [[208, 398],\n",
              "         [435, 610]],\n",
              "\n",
              "        [[668, 404],\n",
              "         [621, 893]],\n",
              "\n",
              "        [[316,  69],\n",
              "         [554, 611]],\n",
              "\n",
              "        [[875, 480],\n",
              "         [426, 165]]]])"
            ]
          },
          "metadata": {},
          "execution_count": 52
        }
      ],
      "source": [
        "np.random.randint(1, 900, size=(6, 6, 2, 2))"
      ]
    },
    {
      "cell_type": "markdown",
      "metadata": {
        "id": "qbUQKpdXMrmA"
      },
      "source": [
        "**MATHEMATICAL COMPUTATIONS WITH NUMPY**"
      ]
    },
    {
      "cell_type": "markdown",
      "metadata": {
        "id": "kl67vggHNEnE"
      },
      "source": [
        "**1. Statistical Computations**"
      ]
    },
    {
      "cell_type": "code",
      "execution_count": null,
      "metadata": {
        "colab": {
          "base_uri": "https://localhost:8080/"
        },
        "id": "8NVYLhuFMwDV",
        "outputId": "d9f61294-70b9-4484-c799-0b6e465ad851"
      },
      "outputs": [
        {
          "output_type": "stream",
          "name": "stdout",
          "text": [
            "The average age is : 36.0 years old\n"
          ]
        }
      ],
      "source": [
        "#A. Finding mean of ages using numpy\n",
        "ages = [34, 45, 23, 25, 30, 32, 40, 50, 45]\n",
        "arra_ages =np.array(ages)\n",
        "average_age=np.mean(arra_ages)\n",
        "print(\"The average age is :\", average_age.round(0), \"years old\")"
      ]
    },
    {
      "cell_type": "code",
      "execution_count": null,
      "metadata": {
        "colab": {
          "base_uri": "https://localhost:8080/"
        },
        "id": "E_iJ3zJ0nurL",
        "outputId": "5ef36f29-f02e-491f-9e00-d7a69cda55c4"
      },
      "outputs": [
        {
          "output_type": "stream",
          "name": "stdout",
          "text": [
            "The average age is : 35.0 years\n"
          ]
        }
      ],
      "source": [
        "ages = [34, 45, 45, 23, 23, 25, 30, 32, 40, 50]\n",
        "arra_ages =np.array(ages)\n",
        "average_age=np.mean(arra_ages)\n",
        "print(\"The average age is :\", average_age.round(0) ,  \"years\")"
      ]
    },
    {
      "cell_type": "code",
      "execution_count": null,
      "metadata": {
        "colab": {
          "base_uri": "https://localhost:8080/"
        },
        "id": "4vzMOQNQNNGU",
        "outputId": "b19c3ea2-53cb-4c06-e468-ed942c71b2d8"
      },
      "outputs": [
        {
          "output_type": "stream",
          "name": "stdout",
          "text": [
            "33.0\n"
          ]
        }
      ],
      "source": [
        "#B. Finding median using numpy\n",
        "\n",
        "medianage=np.median([34, 45, 45, 23, 23, 25, 30, 32, 40, 50])\n",
        "print(medianage)\n"
      ]
    },
    {
      "cell_type": "code",
      "execution_count": null,
      "metadata": {
        "colab": {
          "base_uri": "https://localhost:8080/"
        },
        "id": "rr6dHXFBNSm2",
        "outputId": "e5ac3dc2-106b-477d-a432-50853140bae0"
      },
      "outputs": [
        {
          "output_type": "stream",
          "name": "stdout",
          "text": [
            "The mode in the distribution is 45 and it occurs 2 times\n"
          ]
        }
      ],
      "source": [
        "#C. Finding mode using numpy\n",
        "from scipy import stats\n",
        "mode = stats.mode(arra_ages)\n",
        "print(\"The mode in the distribution is\", mode[0], \"and it occurs\", mode[1] ,\"times\")\n"
      ]
    },
    {
      "cell_type": "code",
      "execution_count": null,
      "metadata": {
        "colab": {
          "base_uri": "https://localhost:8080/"
        },
        "id": "rh-2l8X2NfJV",
        "outputId": "47540399-ef0a-4d06-c0ee-aa84f5cbb0f6"
      },
      "outputs": [
        {
          "output_type": "stream",
          "name": "stdout",
          "text": [
            "9.0\n"
          ]
        },
        {
          "output_type": "execute_result",
          "data": {
            "text/plain": [
              "9"
            ]
          },
          "metadata": {},
          "execution_count": 57
        }
      ],
      "source": [
        "#D. Finding standard deviation using numpy\n",
        "std = np.std(ages)\n",
        "rounded_std= std.round()\n",
        "print(rounded_std)\n",
        "int_std =int(rounded_std) # we are converting the result of the standard deviation to an integer value (9)\n",
        "int_std\n"
      ]
    },
    {
      "cell_type": "code",
      "execution_count": null,
      "metadata": {
        "colab": {
          "base_uri": "https://localhost:8080/"
        },
        "id": "unJg4W7d3t97",
        "outputId": "40f2faf6-111a-49e3-9a4e-aebe7b339493"
      },
      "outputs": [
        {
          "output_type": "execute_result",
          "data": {
            "text/plain": [
              "numpy.float64"
            ]
          },
          "metadata": {},
          "execution_count": 58
        }
      ],
      "source": [
        "type(std.round())"
      ]
    },
    {
      "cell_type": "code",
      "execution_count": null,
      "metadata": {
        "colab": {
          "base_uri": "https://localhost:8080/"
        },
        "id": "2tXrSsnROER0",
        "outputId": "b95ec380-30d6-4d5a-897d-5c272fc33ca2"
      },
      "outputs": [
        {
          "output_type": "execute_result",
          "data": {
            "text/plain": [
              "np.float64(87.21)"
            ]
          },
          "metadata": {},
          "execution_count": 59
        }
      ],
      "source": [
        "#E. Finding variance using numpy\n",
        "np.var(ages)"
      ]
    },
    {
      "cell_type": "markdown",
      "metadata": {
        "id": "XEjNCkQ1WVtW"
      },
      "source": [
        "**CLASS FUN >>>>>>>>>>>>>>>>> 3minutes**\n",
        "\n",
        "Given a list of numbers, use NumPy to find the maximum and minimum values."
      ]
    },
    {
      "cell_type": "code",
      "execution_count": null,
      "metadata": {
        "colab": {
          "base_uri": "https://localhost:8080/"
        },
        "id": "1LIz8nZG-h5Q",
        "outputId": "47375177-84d7-4dfc-cf9e-bfbeeb97788d"
      },
      "outputs": [
        {
          "output_type": "stream",
          "name": "stdout",
          "text": [
            "10\n",
            "1\n"
          ]
        }
      ],
      "source": [
        "numbers = [1, 2, 3, 4, 5, 6, 7, 8, 9, 10]\n",
        "array_num = np.array(numbers)\n",
        "max = np.max(array_num)\n",
        "min = np.min(array_num)\n",
        "print(max)\n",
        "print(min)"
      ]
    },
    {
      "cell_type": "markdown",
      "metadata": {
        "id": "3kw0uLBgOx-R"
      },
      "source": [
        "2. **Basic Math Operations**"
      ]
    },
    {
      "cell_type": "code",
      "execution_count": null,
      "metadata": {
        "colab": {
          "base_uri": "https://localhost:8080/"
        },
        "id": "5oXik1u9O2jf",
        "outputId": "806d0a82-b616-438f-b282-e6303572922a"
      },
      "outputs": [
        {
          "output_type": "execute_result",
          "data": {
            "text/plain": [
              "np.int64(197)"
            ]
          },
          "metadata": {},
          "execution_count": 99
        }
      ],
      "source": [
        "#A. performing addition with numpy\n",
        "addition = np.add(70, 60)\n",
        "np.add(addition, 67)\n"
      ]
    },
    {
      "cell_type": "code",
      "execution_count": null,
      "metadata": {
        "colab": {
          "base_uri": "https://localhost:8080/"
        },
        "id": "WDxJlPvOAV0S",
        "outputId": "7adac80e-ea19-4d0b-e826-f945bb364b59"
      },
      "outputs": [
        {
          "output_type": "execute_result",
          "data": {
            "text/plain": [
              "[1, 2, 3, 4, 5, 6, 7, 8, 9, 10, 1, 2, 3, 4, 5, 6, 7, 8, 9, 10]"
            ]
          },
          "metadata": {},
          "execution_count": 62
        }
      ],
      "source": [
        "num2 = [1, 2, 3, 4, 5, 6, 7, 8, 9, 10]\n",
        "np.add(numbers, num2)\n",
        "\n",
        "num2 + numbers"
      ]
    },
    {
      "cell_type": "code",
      "execution_count": null,
      "metadata": {
        "colab": {
          "base_uri": "https://localhost:8080/"
        },
        "id": "zq-1osy-BRxb",
        "outputId": "82fa4ac0-a2f5-4342-a844-38a77a172a0b"
      },
      "outputs": [
        {
          "output_type": "execute_result",
          "data": {
            "text/plain": [
              "array([ 1,  2,  3,  4,  5,  6,  7,  8,  9, 10,  1,  2,  3,  4,  5,  6,  7,\n",
              "        8,  9, 10])"
            ]
          },
          "metadata": {},
          "execution_count": 63
        }
      ],
      "source": [
        "num= np.array((num2, numbers))\n",
        "np.concatenate(num)"
      ]
    },
    {
      "cell_type": "code",
      "execution_count": null,
      "metadata": {
        "id": "7rW5ml7TPiXN"
      },
      "outputs": [],
      "source": [
        "#B. performing subtraction with numpy\n"
      ]
    },
    {
      "cell_type": "code",
      "execution_count": null,
      "metadata": {
        "id": "z35WcYw9PDh-"
      },
      "outputs": [],
      "source": [
        "#C. performing multiplication with numpy"
      ]
    },
    {
      "cell_type": "code",
      "execution_count": null,
      "metadata": {
        "id": "gAlocXuZP46k"
      },
      "outputs": [],
      "source": [
        "#D. performing Division with numpy"
      ]
    },
    {
      "cell_type": "code",
      "execution_count": null,
      "metadata": {
        "id": "fv4nfR0ShXaP"
      },
      "outputs": [],
      "source": []
    },
    {
      "cell_type": "markdown",
      "metadata": {
        "id": "6e-WKSerWfcy"
      },
      "source": [
        "**CLASS FUN >>>>>>>>>>>>>>>>>>>>>>>>> 2 minutes**\n",
        "\n",
        "Given an array of numbers, compute its variance and standard deviation using NumPy"
      ]
    },
    {
      "cell_type": "markdown",
      "metadata": {
        "id": "uQhaei2gQkVO"
      },
      "source": [
        "**3.Power & Square Roots**"
      ]
    },
    {
      "cell_type": "code",
      "execution_count": null,
      "metadata": {
        "id": "aEncoC-4QqsO"
      },
      "outputs": [],
      "source": [
        "#A. Finding square root with numpy\n"
      ]
    },
    {
      "cell_type": "code",
      "execution_count": null,
      "metadata": {
        "id": "aMU_pVzjQ6Dy"
      },
      "outputs": [],
      "source": [
        "#B. Finding the power of a particular number using numpy\n"
      ]
    },
    {
      "cell_type": "code",
      "execution_count": null,
      "metadata": {
        "id": "x9j25sfjRLBw"
      },
      "outputs": [],
      "source": [
        "#C. Finding the cube root of a number using numpy"
      ]
    },
    {
      "cell_type": "markdown",
      "metadata": {
        "id": "FPXCdcy8W23z"
      },
      "source": [
        "**CLASS FUN >>>>>>>>>>>>>>>>>>>>>>>>>>> 2minutes**\n",
        "Given an unsorted array, use NumPy to sort it in ascending order"
      ]
    },
    {
      "cell_type": "markdown",
      "metadata": {
        "id": "HgaaPjo5RgYO"
      },
      "source": [
        "**4. Logarithms**"
      ]
    },
    {
      "cell_type": "code",
      "execution_count": null,
      "metadata": {
        "id": "xsHtf_OlT02v"
      },
      "outputs": [],
      "source": [
        "#A. Finding the logarithms of a natural number using numpy\n",
        "\n"
      ]
    },
    {
      "cell_type": "code",
      "execution_count": null,
      "metadata": {
        "id": "2FmBY9uBUAIT"
      },
      "outputs": [],
      "source": [
        "#B. Finding the logarithms of a base number  using numpy"
      ]
    },
    {
      "cell_type": "code",
      "execution_count": null,
      "metadata": {
        "id": "BrQ_P9rnhmGC"
      },
      "outputs": [],
      "source": []
    },
    {
      "cell_type": "markdown",
      "metadata": {
        "id": "x8iRWU4ehp0o"
      },
      "source": []
    },
    {
      "cell_type": "code",
      "execution_count": null,
      "metadata": {
        "colab": {
          "base_uri": "https://localhost:8080/",
          "height": 36
        },
        "id": "JJ1I4HX8s5g0",
        "outputId": "7600a1a0-e876-47b4-afe1-a85a4f7449d2"
      },
      "outputs": [
        {
          "output_type": "execute_result",
          "data": {
            "text/plain": [
              "'Good Morning'"
            ],
            "application/vnd.google.colaboratory.intrinsic+json": {
              "type": "string"
            }
          },
          "metadata": {},
          "execution_count": 72
        }
      ],
      "source": [
        "def greetings(name):\n",
        "  return \"Good Morning\"\n",
        "greetings(\"Isaac\")"
      ]
    },
    {
      "cell_type": "code",
      "execution_count": null,
      "metadata": {
        "id": "XATfJufyzG50"
      },
      "outputs": [],
      "source": []
    },
    {
      "cell_type": "code",
      "execution_count": null,
      "metadata": {
        "colab": {
          "base_uri": "https://localhost:8080/",
          "height": 268
        },
        "id": "AsSQrj2WzTxz",
        "outputId": "0146d90d-1b69-4378-86d3-f3f1fdf02a89"
      },
      "outputs": [
        {
          "output_type": "execute_result",
          "data": {
            "text/plain": [
              "         name              Course     state\n",
              "0       Ammar        Data Science    Kaduna\n",
              "1        Alex    Data Engineering    Rivers\n",
              "2       David        Data Science     Abuja\n",
              "3      Isaac1        Data Science     Benue\n",
              "4      Praise        Data Science       Edo\n",
              "5      Isaac2        Data Science  Nasarawa\n",
              "6  Mr. Christ  Information System       Edo"
            ],
            "text/html": [
              "\n",
              "  <div id=\"df-66a1a73b-bc5a-4ed7-ba50-d8e38328ec32\" class=\"colab-df-container\">\n",
              "    <div>\n",
              "<style scoped>\n",
              "    .dataframe tbody tr th:only-of-type {\n",
              "        vertical-align: middle;\n",
              "    }\n",
              "\n",
              "    .dataframe tbody tr th {\n",
              "        vertical-align: top;\n",
              "    }\n",
              "\n",
              "    .dataframe thead th {\n",
              "        text-align: right;\n",
              "    }\n",
              "</style>\n",
              "<table border=\"1\" class=\"dataframe\">\n",
              "  <thead>\n",
              "    <tr style=\"text-align: right;\">\n",
              "      <th></th>\n",
              "      <th>name</th>\n",
              "      <th>Course</th>\n",
              "      <th>state</th>\n",
              "    </tr>\n",
              "  </thead>\n",
              "  <tbody>\n",
              "    <tr>\n",
              "      <th>0</th>\n",
              "      <td>Ammar</td>\n",
              "      <td>Data Science</td>\n",
              "      <td>Kaduna</td>\n",
              "    </tr>\n",
              "    <tr>\n",
              "      <th>1</th>\n",
              "      <td>Alex</td>\n",
              "      <td>Data Engineering</td>\n",
              "      <td>Rivers</td>\n",
              "    </tr>\n",
              "    <tr>\n",
              "      <th>2</th>\n",
              "      <td>David</td>\n",
              "      <td>Data Science</td>\n",
              "      <td>Abuja</td>\n",
              "    </tr>\n",
              "    <tr>\n",
              "      <th>3</th>\n",
              "      <td>Isaac1</td>\n",
              "      <td>Data Science</td>\n",
              "      <td>Benue</td>\n",
              "    </tr>\n",
              "    <tr>\n",
              "      <th>4</th>\n",
              "      <td>Praise</td>\n",
              "      <td>Data Science</td>\n",
              "      <td>Edo</td>\n",
              "    </tr>\n",
              "    <tr>\n",
              "      <th>5</th>\n",
              "      <td>Isaac2</td>\n",
              "      <td>Data Science</td>\n",
              "      <td>Nasarawa</td>\n",
              "    </tr>\n",
              "    <tr>\n",
              "      <th>6</th>\n",
              "      <td>Mr. Christ</td>\n",
              "      <td>Information System</td>\n",
              "      <td>Edo</td>\n",
              "    </tr>\n",
              "  </tbody>\n",
              "</table>\n",
              "</div>\n",
              "    <div class=\"colab-df-buttons\">\n",
              "\n",
              "  <div class=\"colab-df-container\">\n",
              "    <button class=\"colab-df-convert\" onclick=\"convertToInteractive('df-66a1a73b-bc5a-4ed7-ba50-d8e38328ec32')\"\n",
              "            title=\"Convert this dataframe to an interactive table.\"\n",
              "            style=\"display:none;\">\n",
              "\n",
              "  <svg xmlns=\"http://www.w3.org/2000/svg\" height=\"24px\" viewBox=\"0 -960 960 960\">\n",
              "    <path d=\"M120-120v-720h720v720H120Zm60-500h600v-160H180v160Zm220 220h160v-160H400v160Zm0 220h160v-160H400v160ZM180-400h160v-160H180v160Zm440 0h160v-160H620v160ZM180-180h160v-160H180v160Zm440 0h160v-160H620v160Z\"/>\n",
              "  </svg>\n",
              "    </button>\n",
              "\n",
              "  <style>\n",
              "    .colab-df-container {\n",
              "      display:flex;\n",
              "      gap: 12px;\n",
              "    }\n",
              "\n",
              "    .colab-df-convert {\n",
              "      background-color: #E8F0FE;\n",
              "      border: none;\n",
              "      border-radius: 50%;\n",
              "      cursor: pointer;\n",
              "      display: none;\n",
              "      fill: #1967D2;\n",
              "      height: 32px;\n",
              "      padding: 0 0 0 0;\n",
              "      width: 32px;\n",
              "    }\n",
              "\n",
              "    .colab-df-convert:hover {\n",
              "      background-color: #E2EBFA;\n",
              "      box-shadow: 0px 1px 2px rgba(60, 64, 67, 0.3), 0px 1px 3px 1px rgba(60, 64, 67, 0.15);\n",
              "      fill: #174EA6;\n",
              "    }\n",
              "\n",
              "    .colab-df-buttons div {\n",
              "      margin-bottom: 4px;\n",
              "    }\n",
              "\n",
              "    [theme=dark] .colab-df-convert {\n",
              "      background-color: #3B4455;\n",
              "      fill: #D2E3FC;\n",
              "    }\n",
              "\n",
              "    [theme=dark] .colab-df-convert:hover {\n",
              "      background-color: #434B5C;\n",
              "      box-shadow: 0px 1px 3px 1px rgba(0, 0, 0, 0.15);\n",
              "      filter: drop-shadow(0px 1px 2px rgba(0, 0, 0, 0.3));\n",
              "      fill: #FFFFFF;\n",
              "    }\n",
              "  </style>\n",
              "\n",
              "    <script>\n",
              "      const buttonEl =\n",
              "        document.querySelector('#df-66a1a73b-bc5a-4ed7-ba50-d8e38328ec32 button.colab-df-convert');\n",
              "      buttonEl.style.display =\n",
              "        google.colab.kernel.accessAllowed ? 'block' : 'none';\n",
              "\n",
              "      async function convertToInteractive(key) {\n",
              "        const element = document.querySelector('#df-66a1a73b-bc5a-4ed7-ba50-d8e38328ec32');\n",
              "        const dataTable =\n",
              "          await google.colab.kernel.invokeFunction('convertToInteractive',\n",
              "                                                    [key], {});\n",
              "        if (!dataTable) return;\n",
              "\n",
              "        const docLinkHtml = 'Like what you see? Visit the ' +\n",
              "          '<a target=\"_blank\" href=https://colab.research.google.com/notebooks/data_table.ipynb>data table notebook</a>'\n",
              "          + ' to learn more about interactive tables.';\n",
              "        element.innerHTML = '';\n",
              "        dataTable['output_type'] = 'display_data';\n",
              "        await google.colab.output.renderOutput(dataTable, element);\n",
              "        const docLink = document.createElement('div');\n",
              "        docLink.innerHTML = docLinkHtml;\n",
              "        element.appendChild(docLink);\n",
              "      }\n",
              "    </script>\n",
              "  </div>\n",
              "\n",
              "\n",
              "    <div id=\"df-be898e0d-9cb6-48fe-9717-ef09d2224c87\">\n",
              "      <button class=\"colab-df-quickchart\" onclick=\"quickchart('df-be898e0d-9cb6-48fe-9717-ef09d2224c87')\"\n",
              "                title=\"Suggest charts\"\n",
              "                style=\"display:none;\">\n",
              "\n",
              "<svg xmlns=\"http://www.w3.org/2000/svg\" height=\"24px\"viewBox=\"0 0 24 24\"\n",
              "     width=\"24px\">\n",
              "    <g>\n",
              "        <path d=\"M19 3H5c-1.1 0-2 .9-2 2v14c0 1.1.9 2 2 2h14c1.1 0 2-.9 2-2V5c0-1.1-.9-2-2-2zM9 17H7v-7h2v7zm4 0h-2V7h2v10zm4 0h-2v-4h2v4z\"/>\n",
              "    </g>\n",
              "</svg>\n",
              "      </button>\n",
              "\n",
              "<style>\n",
              "  .colab-df-quickchart {\n",
              "      --bg-color: #E8F0FE;\n",
              "      --fill-color: #1967D2;\n",
              "      --hover-bg-color: #E2EBFA;\n",
              "      --hover-fill-color: #174EA6;\n",
              "      --disabled-fill-color: #AAA;\n",
              "      --disabled-bg-color: #DDD;\n",
              "  }\n",
              "\n",
              "  [theme=dark] .colab-df-quickchart {\n",
              "      --bg-color: #3B4455;\n",
              "      --fill-color: #D2E3FC;\n",
              "      --hover-bg-color: #434B5C;\n",
              "      --hover-fill-color: #FFFFFF;\n",
              "      --disabled-bg-color: #3B4455;\n",
              "      --disabled-fill-color: #666;\n",
              "  }\n",
              "\n",
              "  .colab-df-quickchart {\n",
              "    background-color: var(--bg-color);\n",
              "    border: none;\n",
              "    border-radius: 50%;\n",
              "    cursor: pointer;\n",
              "    display: none;\n",
              "    fill: var(--fill-color);\n",
              "    height: 32px;\n",
              "    padding: 0;\n",
              "    width: 32px;\n",
              "  }\n",
              "\n",
              "  .colab-df-quickchart:hover {\n",
              "    background-color: var(--hover-bg-color);\n",
              "    box-shadow: 0 1px 2px rgba(60, 64, 67, 0.3), 0 1px 3px 1px rgba(60, 64, 67, 0.15);\n",
              "    fill: var(--button-hover-fill-color);\n",
              "  }\n",
              "\n",
              "  .colab-df-quickchart-complete:disabled,\n",
              "  .colab-df-quickchart-complete:disabled:hover {\n",
              "    background-color: var(--disabled-bg-color);\n",
              "    fill: var(--disabled-fill-color);\n",
              "    box-shadow: none;\n",
              "  }\n",
              "\n",
              "  .colab-df-spinner {\n",
              "    border: 2px solid var(--fill-color);\n",
              "    border-color: transparent;\n",
              "    border-bottom-color: var(--fill-color);\n",
              "    animation:\n",
              "      spin 1s steps(1) infinite;\n",
              "  }\n",
              "\n",
              "  @keyframes spin {\n",
              "    0% {\n",
              "      border-color: transparent;\n",
              "      border-bottom-color: var(--fill-color);\n",
              "      border-left-color: var(--fill-color);\n",
              "    }\n",
              "    20% {\n",
              "      border-color: transparent;\n",
              "      border-left-color: var(--fill-color);\n",
              "      border-top-color: var(--fill-color);\n",
              "    }\n",
              "    30% {\n",
              "      border-color: transparent;\n",
              "      border-left-color: var(--fill-color);\n",
              "      border-top-color: var(--fill-color);\n",
              "      border-right-color: var(--fill-color);\n",
              "    }\n",
              "    40% {\n",
              "      border-color: transparent;\n",
              "      border-right-color: var(--fill-color);\n",
              "      border-top-color: var(--fill-color);\n",
              "    }\n",
              "    60% {\n",
              "      border-color: transparent;\n",
              "      border-right-color: var(--fill-color);\n",
              "    }\n",
              "    80% {\n",
              "      border-color: transparent;\n",
              "      border-right-color: var(--fill-color);\n",
              "      border-bottom-color: var(--fill-color);\n",
              "    }\n",
              "    90% {\n",
              "      border-color: transparent;\n",
              "      border-bottom-color: var(--fill-color);\n",
              "    }\n",
              "  }\n",
              "</style>\n",
              "\n",
              "      <script>\n",
              "        async function quickchart(key) {\n",
              "          const quickchartButtonEl =\n",
              "            document.querySelector('#' + key + ' button');\n",
              "          quickchartButtonEl.disabled = true;  // To prevent multiple clicks.\n",
              "          quickchartButtonEl.classList.add('colab-df-spinner');\n",
              "          try {\n",
              "            const charts = await google.colab.kernel.invokeFunction(\n",
              "                'suggestCharts', [key], {});\n",
              "          } catch (error) {\n",
              "            console.error('Error during call to suggestCharts:', error);\n",
              "          }\n",
              "          quickchartButtonEl.classList.remove('colab-df-spinner');\n",
              "          quickchartButtonEl.classList.add('colab-df-quickchart-complete');\n",
              "        }\n",
              "        (() => {\n",
              "          let quickchartButtonEl =\n",
              "            document.querySelector('#df-be898e0d-9cb6-48fe-9717-ef09d2224c87 button');\n",
              "          quickchartButtonEl.style.display =\n",
              "            google.colab.kernel.accessAllowed ? 'block' : 'none';\n",
              "        })();\n",
              "      </script>\n",
              "    </div>\n",
              "\n",
              "  <div id=\"id_b56bcffd-a078-4201-a04c-673be7104fd9\">\n",
              "    <style>\n",
              "      .colab-df-generate {\n",
              "        background-color: #E8F0FE;\n",
              "        border: none;\n",
              "        border-radius: 50%;\n",
              "        cursor: pointer;\n",
              "        display: none;\n",
              "        fill: #1967D2;\n",
              "        height: 32px;\n",
              "        padding: 0 0 0 0;\n",
              "        width: 32px;\n",
              "      }\n",
              "\n",
              "      .colab-df-generate:hover {\n",
              "        background-color: #E2EBFA;\n",
              "        box-shadow: 0px 1px 2px rgba(60, 64, 67, 0.3), 0px 1px 3px 1px rgba(60, 64, 67, 0.15);\n",
              "        fill: #174EA6;\n",
              "      }\n",
              "\n",
              "      [theme=dark] .colab-df-generate {\n",
              "        background-color: #3B4455;\n",
              "        fill: #D2E3FC;\n",
              "      }\n",
              "\n",
              "      [theme=dark] .colab-df-generate:hover {\n",
              "        background-color: #434B5C;\n",
              "        box-shadow: 0px 1px 3px 1px rgba(0, 0, 0, 0.15);\n",
              "        filter: drop-shadow(0px 1px 2px rgba(0, 0, 0, 0.3));\n",
              "        fill: #FFFFFF;\n",
              "      }\n",
              "    </style>\n",
              "    <button class=\"colab-df-generate\" onclick=\"generateWithVariable('df')\"\n",
              "            title=\"Generate code using this dataframe.\"\n",
              "            style=\"display:none;\">\n",
              "\n",
              "  <svg xmlns=\"http://www.w3.org/2000/svg\" height=\"24px\"viewBox=\"0 0 24 24\"\n",
              "       width=\"24px\">\n",
              "    <path d=\"M7,19H8.4L18.45,9,17,7.55,7,17.6ZM5,21V16.75L18.45,3.32a2,2,0,0,1,2.83,0l1.4,1.43a1.91,1.91,0,0,1,.58,1.4,1.91,1.91,0,0,1-.58,1.4L9.25,21ZM18.45,9,17,7.55Zm-12,3A5.31,5.31,0,0,0,4.9,8.1,5.31,5.31,0,0,0,1,6.5,5.31,5.31,0,0,0,4.9,4.9,5.31,5.31,0,0,0,6.5,1,5.31,5.31,0,0,0,8.1,4.9,5.31,5.31,0,0,0,12,6.5,5.46,5.46,0,0,0,6.5,12Z\"/>\n",
              "  </svg>\n",
              "    </button>\n",
              "    <script>\n",
              "      (() => {\n",
              "      const buttonEl =\n",
              "        document.querySelector('#id_b56bcffd-a078-4201-a04c-673be7104fd9 button.colab-df-generate');\n",
              "      buttonEl.style.display =\n",
              "        google.colab.kernel.accessAllowed ? 'block' : 'none';\n",
              "\n",
              "      buttonEl.onclick = () => {\n",
              "        google.colab.notebook.generateWithVariable('df');\n",
              "      }\n",
              "      })();\n",
              "    </script>\n",
              "  </div>\n",
              "\n",
              "    </div>\n",
              "  </div>\n"
            ],
            "application/vnd.google.colaboratory.intrinsic+json": {
              "type": "dataframe",
              "variable_name": "df",
              "summary": "{\n  \"name\": \"df\",\n  \"rows\": 7,\n  \"fields\": [\n    {\n      \"column\": \"name\",\n      \"properties\": {\n        \"dtype\": \"string\",\n        \"num_unique_values\": 7,\n        \"samples\": [\n          \"Ammar\",\n          \"Alex\",\n          \"Isaac2\"\n        ],\n        \"semantic_type\": \"\",\n        \"description\": \"\"\n      }\n    },\n    {\n      \"column\": \"Course\",\n      \"properties\": {\n        \"dtype\": \"category\",\n        \"num_unique_values\": 3,\n        \"samples\": [\n          \"Data Science\",\n          \"Data Engineering\",\n          \"Information System\"\n        ],\n        \"semantic_type\": \"\",\n        \"description\": \"\"\n      }\n    },\n    {\n      \"column\": \"state\",\n      \"properties\": {\n        \"dtype\": \"string\",\n        \"num_unique_values\": 6,\n        \"samples\": [\n          \"Kaduna\",\n          \"Rivers\",\n          \"Nasarawa\"\n        ],\n        \"semantic_type\": \"\",\n        \"description\": \"\"\n      }\n    }\n  ]\n}"
            }
          },
          "metadata": {},
          "execution_count": 73
        }
      ],
      "source": [
        "import pandas as pd\n",
        "data = {'name': ['Ammar', 'Alex', 'David', 'Isaac1', 'Praise', 'Isaac2', 'Mr. Christ'],\n",
        "        'Course': ['Data Science', 'Data Engineering', 'Data Science', 'Data Science', 'Data Science', 'Data Science', 'Information System'],\n",
        "        'state': ['Kaduna', 'Rivers', 'Abuja', 'Benue', 'Edo', 'Nasarawa', 'Edo']}\n",
        "\n",
        "df = pd.DataFrame(data)\n",
        "df"
      ]
    },
    {
      "cell_type": "code",
      "execution_count": null,
      "metadata": {
        "colab": {
          "base_uri": "https://localhost:8080/",
          "height": 143
        },
        "id": "xF3UNEQ_1FeF",
        "outputId": "60d81099-ab6a-4d44-d4e1-60f6f378958d"
      },
      "outputs": [
        {
          "output_type": "execute_result",
          "data": {
            "text/plain": [
              "                   0                 1             2             3  \\\n",
              "name           Ammar              Alex         David        Isaac1   \n",
              "Course  Data Science  Data Engineering  Data Science  Data Science   \n",
              "state         Kaduna            Rivers         Abuja         Benue   \n",
              "\n",
              "                   4             5                   6  \n",
              "name          Praise        Isaac2          Mr. Christ  \n",
              "Course  Data Science  Data Science  Information System  \n",
              "state            Edo      Nasarawa                 Edo  "
            ],
            "text/html": [
              "\n",
              "  <div id=\"df-10b5e231-25b2-4aa3-a1de-5399dae596d5\" class=\"colab-df-container\">\n",
              "    <div>\n",
              "<style scoped>\n",
              "    .dataframe tbody tr th:only-of-type {\n",
              "        vertical-align: middle;\n",
              "    }\n",
              "\n",
              "    .dataframe tbody tr th {\n",
              "        vertical-align: top;\n",
              "    }\n",
              "\n",
              "    .dataframe thead th {\n",
              "        text-align: right;\n",
              "    }\n",
              "</style>\n",
              "<table border=\"1\" class=\"dataframe\">\n",
              "  <thead>\n",
              "    <tr style=\"text-align: right;\">\n",
              "      <th></th>\n",
              "      <th>0</th>\n",
              "      <th>1</th>\n",
              "      <th>2</th>\n",
              "      <th>3</th>\n",
              "      <th>4</th>\n",
              "      <th>5</th>\n",
              "      <th>6</th>\n",
              "    </tr>\n",
              "  </thead>\n",
              "  <tbody>\n",
              "    <tr>\n",
              "      <th>name</th>\n",
              "      <td>Ammar</td>\n",
              "      <td>Alex</td>\n",
              "      <td>David</td>\n",
              "      <td>Isaac1</td>\n",
              "      <td>Praise</td>\n",
              "      <td>Isaac2</td>\n",
              "      <td>Mr. Christ</td>\n",
              "    </tr>\n",
              "    <tr>\n",
              "      <th>Course</th>\n",
              "      <td>Data Science</td>\n",
              "      <td>Data Engineering</td>\n",
              "      <td>Data Science</td>\n",
              "      <td>Data Science</td>\n",
              "      <td>Data Science</td>\n",
              "      <td>Data Science</td>\n",
              "      <td>Information System</td>\n",
              "    </tr>\n",
              "    <tr>\n",
              "      <th>state</th>\n",
              "      <td>Kaduna</td>\n",
              "      <td>Rivers</td>\n",
              "      <td>Abuja</td>\n",
              "      <td>Benue</td>\n",
              "      <td>Edo</td>\n",
              "      <td>Nasarawa</td>\n",
              "      <td>Edo</td>\n",
              "    </tr>\n",
              "  </tbody>\n",
              "</table>\n",
              "</div>\n",
              "    <div class=\"colab-df-buttons\">\n",
              "\n",
              "  <div class=\"colab-df-container\">\n",
              "    <button class=\"colab-df-convert\" onclick=\"convertToInteractive('df-10b5e231-25b2-4aa3-a1de-5399dae596d5')\"\n",
              "            title=\"Convert this dataframe to an interactive table.\"\n",
              "            style=\"display:none;\">\n",
              "\n",
              "  <svg xmlns=\"http://www.w3.org/2000/svg\" height=\"24px\" viewBox=\"0 -960 960 960\">\n",
              "    <path d=\"M120-120v-720h720v720H120Zm60-500h600v-160H180v160Zm220 220h160v-160H400v160Zm0 220h160v-160H400v160ZM180-400h160v-160H180v160Zm440 0h160v-160H620v160ZM180-180h160v-160H180v160Zm440 0h160v-160H620v160Z\"/>\n",
              "  </svg>\n",
              "    </button>\n",
              "\n",
              "  <style>\n",
              "    .colab-df-container {\n",
              "      display:flex;\n",
              "      gap: 12px;\n",
              "    }\n",
              "\n",
              "    .colab-df-convert {\n",
              "      background-color: #E8F0FE;\n",
              "      border: none;\n",
              "      border-radius: 50%;\n",
              "      cursor: pointer;\n",
              "      display: none;\n",
              "      fill: #1967D2;\n",
              "      height: 32px;\n",
              "      padding: 0 0 0 0;\n",
              "      width: 32px;\n",
              "    }\n",
              "\n",
              "    .colab-df-convert:hover {\n",
              "      background-color: #E2EBFA;\n",
              "      box-shadow: 0px 1px 2px rgba(60, 64, 67, 0.3), 0px 1px 3px 1px rgba(60, 64, 67, 0.15);\n",
              "      fill: #174EA6;\n",
              "    }\n",
              "\n",
              "    .colab-df-buttons div {\n",
              "      margin-bottom: 4px;\n",
              "    }\n",
              "\n",
              "    [theme=dark] .colab-df-convert {\n",
              "      background-color: #3B4455;\n",
              "      fill: #D2E3FC;\n",
              "    }\n",
              "\n",
              "    [theme=dark] .colab-df-convert:hover {\n",
              "      background-color: #434B5C;\n",
              "      box-shadow: 0px 1px 3px 1px rgba(0, 0, 0, 0.15);\n",
              "      filter: drop-shadow(0px 1px 2px rgba(0, 0, 0, 0.3));\n",
              "      fill: #FFFFFF;\n",
              "    }\n",
              "  </style>\n",
              "\n",
              "    <script>\n",
              "      const buttonEl =\n",
              "        document.querySelector('#df-10b5e231-25b2-4aa3-a1de-5399dae596d5 button.colab-df-convert');\n",
              "      buttonEl.style.display =\n",
              "        google.colab.kernel.accessAllowed ? 'block' : 'none';\n",
              "\n",
              "      async function convertToInteractive(key) {\n",
              "        const element = document.querySelector('#df-10b5e231-25b2-4aa3-a1de-5399dae596d5');\n",
              "        const dataTable =\n",
              "          await google.colab.kernel.invokeFunction('convertToInteractive',\n",
              "                                                    [key], {});\n",
              "        if (!dataTable) return;\n",
              "\n",
              "        const docLinkHtml = 'Like what you see? Visit the ' +\n",
              "          '<a target=\"_blank\" href=https://colab.research.google.com/notebooks/data_table.ipynb>data table notebook</a>'\n",
              "          + ' to learn more about interactive tables.';\n",
              "        element.innerHTML = '';\n",
              "        dataTable['output_type'] = 'display_data';\n",
              "        await google.colab.output.renderOutput(dataTable, element);\n",
              "        const docLink = document.createElement('div');\n",
              "        docLink.innerHTML = docLinkHtml;\n",
              "        element.appendChild(docLink);\n",
              "      }\n",
              "    </script>\n",
              "  </div>\n",
              "\n",
              "\n",
              "    <div id=\"df-90b8132c-e33d-4fa4-a517-502826d58e19\">\n",
              "      <button class=\"colab-df-quickchart\" onclick=\"quickchart('df-90b8132c-e33d-4fa4-a517-502826d58e19')\"\n",
              "                title=\"Suggest charts\"\n",
              "                style=\"display:none;\">\n",
              "\n",
              "<svg xmlns=\"http://www.w3.org/2000/svg\" height=\"24px\"viewBox=\"0 0 24 24\"\n",
              "     width=\"24px\">\n",
              "    <g>\n",
              "        <path d=\"M19 3H5c-1.1 0-2 .9-2 2v14c0 1.1.9 2 2 2h14c1.1 0 2-.9 2-2V5c0-1.1-.9-2-2-2zM9 17H7v-7h2v7zm4 0h-2V7h2v10zm4 0h-2v-4h2v4z\"/>\n",
              "    </g>\n",
              "</svg>\n",
              "      </button>\n",
              "\n",
              "<style>\n",
              "  .colab-df-quickchart {\n",
              "      --bg-color: #E8F0FE;\n",
              "      --fill-color: #1967D2;\n",
              "      --hover-bg-color: #E2EBFA;\n",
              "      --hover-fill-color: #174EA6;\n",
              "      --disabled-fill-color: #AAA;\n",
              "      --disabled-bg-color: #DDD;\n",
              "  }\n",
              "\n",
              "  [theme=dark] .colab-df-quickchart {\n",
              "      --bg-color: #3B4455;\n",
              "      --fill-color: #D2E3FC;\n",
              "      --hover-bg-color: #434B5C;\n",
              "      --hover-fill-color: #FFFFFF;\n",
              "      --disabled-bg-color: #3B4455;\n",
              "      --disabled-fill-color: #666;\n",
              "  }\n",
              "\n",
              "  .colab-df-quickchart {\n",
              "    background-color: var(--bg-color);\n",
              "    border: none;\n",
              "    border-radius: 50%;\n",
              "    cursor: pointer;\n",
              "    display: none;\n",
              "    fill: var(--fill-color);\n",
              "    height: 32px;\n",
              "    padding: 0;\n",
              "    width: 32px;\n",
              "  }\n",
              "\n",
              "  .colab-df-quickchart:hover {\n",
              "    background-color: var(--hover-bg-color);\n",
              "    box-shadow: 0 1px 2px rgba(60, 64, 67, 0.3), 0 1px 3px 1px rgba(60, 64, 67, 0.15);\n",
              "    fill: var(--button-hover-fill-color);\n",
              "  }\n",
              "\n",
              "  .colab-df-quickchart-complete:disabled,\n",
              "  .colab-df-quickchart-complete:disabled:hover {\n",
              "    background-color: var(--disabled-bg-color);\n",
              "    fill: var(--disabled-fill-color);\n",
              "    box-shadow: none;\n",
              "  }\n",
              "\n",
              "  .colab-df-spinner {\n",
              "    border: 2px solid var(--fill-color);\n",
              "    border-color: transparent;\n",
              "    border-bottom-color: var(--fill-color);\n",
              "    animation:\n",
              "      spin 1s steps(1) infinite;\n",
              "  }\n",
              "\n",
              "  @keyframes spin {\n",
              "    0% {\n",
              "      border-color: transparent;\n",
              "      border-bottom-color: var(--fill-color);\n",
              "      border-left-color: var(--fill-color);\n",
              "    }\n",
              "    20% {\n",
              "      border-color: transparent;\n",
              "      border-left-color: var(--fill-color);\n",
              "      border-top-color: var(--fill-color);\n",
              "    }\n",
              "    30% {\n",
              "      border-color: transparent;\n",
              "      border-left-color: var(--fill-color);\n",
              "      border-top-color: var(--fill-color);\n",
              "      border-right-color: var(--fill-color);\n",
              "    }\n",
              "    40% {\n",
              "      border-color: transparent;\n",
              "      border-right-color: var(--fill-color);\n",
              "      border-top-color: var(--fill-color);\n",
              "    }\n",
              "    60% {\n",
              "      border-color: transparent;\n",
              "      border-right-color: var(--fill-color);\n",
              "    }\n",
              "    80% {\n",
              "      border-color: transparent;\n",
              "      border-right-color: var(--fill-color);\n",
              "      border-bottom-color: var(--fill-color);\n",
              "    }\n",
              "    90% {\n",
              "      border-color: transparent;\n",
              "      border-bottom-color: var(--fill-color);\n",
              "    }\n",
              "  }\n",
              "</style>\n",
              "\n",
              "      <script>\n",
              "        async function quickchart(key) {\n",
              "          const quickchartButtonEl =\n",
              "            document.querySelector('#' + key + ' button');\n",
              "          quickchartButtonEl.disabled = true;  // To prevent multiple clicks.\n",
              "          quickchartButtonEl.classList.add('colab-df-spinner');\n",
              "          try {\n",
              "            const charts = await google.colab.kernel.invokeFunction(\n",
              "                'suggestCharts', [key], {});\n",
              "          } catch (error) {\n",
              "            console.error('Error during call to suggestCharts:', error);\n",
              "          }\n",
              "          quickchartButtonEl.classList.remove('colab-df-spinner');\n",
              "          quickchartButtonEl.classList.add('colab-df-quickchart-complete');\n",
              "        }\n",
              "        (() => {\n",
              "          let quickchartButtonEl =\n",
              "            document.querySelector('#df-90b8132c-e33d-4fa4-a517-502826d58e19 button');\n",
              "          quickchartButtonEl.style.display =\n",
              "            google.colab.kernel.accessAllowed ? 'block' : 'none';\n",
              "        })();\n",
              "      </script>\n",
              "    </div>\n",
              "\n",
              "  <div id=\"id_1440035c-eaa8-4889-aaba-44d8967cc3f3\">\n",
              "    <style>\n",
              "      .colab-df-generate {\n",
              "        background-color: #E8F0FE;\n",
              "        border: none;\n",
              "        border-radius: 50%;\n",
              "        cursor: pointer;\n",
              "        display: none;\n",
              "        fill: #1967D2;\n",
              "        height: 32px;\n",
              "        padding: 0 0 0 0;\n",
              "        width: 32px;\n",
              "      }\n",
              "\n",
              "      .colab-df-generate:hover {\n",
              "        background-color: #E2EBFA;\n",
              "        box-shadow: 0px 1px 2px rgba(60, 64, 67, 0.3), 0px 1px 3px 1px rgba(60, 64, 67, 0.15);\n",
              "        fill: #174EA6;\n",
              "      }\n",
              "\n",
              "      [theme=dark] .colab-df-generate {\n",
              "        background-color: #3B4455;\n",
              "        fill: #D2E3FC;\n",
              "      }\n",
              "\n",
              "      [theme=dark] .colab-df-generate:hover {\n",
              "        background-color: #434B5C;\n",
              "        box-shadow: 0px 1px 3px 1px rgba(0, 0, 0, 0.15);\n",
              "        filter: drop-shadow(0px 1px 2px rgba(0, 0, 0, 0.3));\n",
              "        fill: #FFFFFF;\n",
              "      }\n",
              "    </style>\n",
              "    <button class=\"colab-df-generate\" onclick=\"generateWithVariable('transpose')\"\n",
              "            title=\"Generate code using this dataframe.\"\n",
              "            style=\"display:none;\">\n",
              "\n",
              "  <svg xmlns=\"http://www.w3.org/2000/svg\" height=\"24px\"viewBox=\"0 0 24 24\"\n",
              "       width=\"24px\">\n",
              "    <path d=\"M7,19H8.4L18.45,9,17,7.55,7,17.6ZM5,21V16.75L18.45,3.32a2,2,0,0,1,2.83,0l1.4,1.43a1.91,1.91,0,0,1,.58,1.4,1.91,1.91,0,0,1-.58,1.4L9.25,21ZM18.45,9,17,7.55Zm-12,3A5.31,5.31,0,0,0,4.9,8.1,5.31,5.31,0,0,0,1,6.5,5.31,5.31,0,0,0,4.9,4.9,5.31,5.31,0,0,0,6.5,1,5.31,5.31,0,0,0,8.1,4.9,5.31,5.31,0,0,0,12,6.5,5.46,5.46,0,0,0,6.5,12Z\"/>\n",
              "  </svg>\n",
              "    </button>\n",
              "    <script>\n",
              "      (() => {\n",
              "      const buttonEl =\n",
              "        document.querySelector('#id_1440035c-eaa8-4889-aaba-44d8967cc3f3 button.colab-df-generate');\n",
              "      buttonEl.style.display =\n",
              "        google.colab.kernel.accessAllowed ? 'block' : 'none';\n",
              "\n",
              "      buttonEl.onclick = () => {\n",
              "        google.colab.notebook.generateWithVariable('transpose');\n",
              "      }\n",
              "      })();\n",
              "    </script>\n",
              "  </div>\n",
              "\n",
              "    </div>\n",
              "  </div>\n"
            ],
            "application/vnd.google.colaboratory.intrinsic+json": {
              "type": "dataframe",
              "variable_name": "transpose",
              "summary": "{\n  \"name\": \"transpose\",\n  \"rows\": 3,\n  \"fields\": [\n    {\n      \"column\": 0,\n      \"properties\": {\n        \"dtype\": \"string\",\n        \"num_unique_values\": 3,\n        \"samples\": [\n          \"Ammar\",\n          \"Data Science\",\n          \"Kaduna\"\n        ],\n        \"semantic_type\": \"\",\n        \"description\": \"\"\n      }\n    },\n    {\n      \"column\": 1,\n      \"properties\": {\n        \"dtype\": \"string\",\n        \"num_unique_values\": 3,\n        \"samples\": [\n          \"Alex\",\n          \"Data Engineering\",\n          \"Rivers\"\n        ],\n        \"semantic_type\": \"\",\n        \"description\": \"\"\n      }\n    },\n    {\n      \"column\": 2,\n      \"properties\": {\n        \"dtype\": \"string\",\n        \"num_unique_values\": 3,\n        \"samples\": [\n          \"David\",\n          \"Data Science\",\n          \"Abuja\"\n        ],\n        \"semantic_type\": \"\",\n        \"description\": \"\"\n      }\n    },\n    {\n      \"column\": 3,\n      \"properties\": {\n        \"dtype\": \"string\",\n        \"num_unique_values\": 3,\n        \"samples\": [\n          \"Isaac1\",\n          \"Data Science\",\n          \"Benue\"\n        ],\n        \"semantic_type\": \"\",\n        \"description\": \"\"\n      }\n    },\n    {\n      \"column\": 4,\n      \"properties\": {\n        \"dtype\": \"string\",\n        \"num_unique_values\": 3,\n        \"samples\": [\n          \"Praise\",\n          \"Data Science\",\n          \"Edo\"\n        ],\n        \"semantic_type\": \"\",\n        \"description\": \"\"\n      }\n    },\n    {\n      \"column\": 5,\n      \"properties\": {\n        \"dtype\": \"string\",\n        \"num_unique_values\": 3,\n        \"samples\": [\n          \"Isaac2\",\n          \"Data Science\",\n          \"Nasarawa\"\n        ],\n        \"semantic_type\": \"\",\n        \"description\": \"\"\n      }\n    },\n    {\n      \"column\": 6,\n      \"properties\": {\n        \"dtype\": \"string\",\n        \"num_unique_values\": 3,\n        \"samples\": [\n          \"Mr. Christ\",\n          \"Information System\",\n          \"Edo\"\n        ],\n        \"semantic_type\": \"\",\n        \"description\": \"\"\n      }\n    }\n  ]\n}"
            }
          },
          "metadata": {},
          "execution_count": 74
        }
      ],
      "source": [
        "transpose = df.T\n",
        "transpose"
      ]
    }
  ],
  "metadata": {
    "colab": {
      "provenance": []
    },
    "kernelspec": {
      "display_name": "Python 3",
      "name": "python3"
    },
    "language_info": {
      "name": "python"
    }
  },
  "nbformat": 4,
  "nbformat_minor": 0
}